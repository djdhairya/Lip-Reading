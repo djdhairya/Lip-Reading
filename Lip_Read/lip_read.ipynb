{
 "cells": [
  {
   "cell_type": "markdown",
   "metadata": {},
   "source": [
    "# Import Lib"
   ]
  },
  {
   "cell_type": "code",
   "execution_count": 1,
   "metadata": {},
   "outputs": [
    {
     "name": "stdout",
     "output_type": "stream",
     "text": [
      "Requirement already satisfied: opencv-python in c:\\users\\admin\\appdata\\local\\programs\\python\\python312\\lib\\site-packages (4.10.0.84)\n",
      "Requirement already satisfied: matplotlib in c:\\users\\admin\\appdata\\local\\programs\\python\\python312\\lib\\site-packages (3.9.2)\n",
      "Requirement already satisfied: imageio in c:\\users\\admin\\appdata\\local\\programs\\python\\python312\\lib\\site-packages (2.35.1)\n",
      "Requirement already satisfied: gdown in c:\\users\\admin\\appdata\\local\\programs\\python\\python312\\lib\\site-packages (5.2.0)\n",
      "Requirement already satisfied: numpy>=1.21.2 in c:\\users\\admin\\appdata\\local\\programs\\python\\python312\\lib\\site-packages (from opencv-python) (1.26.4)\n",
      "Requirement already satisfied: contourpy>=1.0.1 in c:\\users\\admin\\appdata\\local\\programs\\python\\python312\\lib\\site-packages (from matplotlib) (1.3.0)\n",
      "Requirement already satisfied: cycler>=0.10 in c:\\users\\admin\\appdata\\local\\programs\\python\\python312\\lib\\site-packages (from matplotlib) (0.12.1)\n",
      "Requirement already satisfied: fonttools>=4.22.0 in c:\\users\\admin\\appdata\\local\\programs\\python\\python312\\lib\\site-packages (from matplotlib) (4.53.1)\n",
      "Requirement already satisfied: kiwisolver>=1.3.1 in c:\\users\\admin\\appdata\\local\\programs\\python\\python312\\lib\\site-packages (from matplotlib) (1.4.7)\n",
      "Requirement already satisfied: packaging>=20.0 in c:\\users\\admin\\appdata\\roaming\\python\\python312\\site-packages (from matplotlib) (24.1)\n",
      "Requirement already satisfied: pillow>=8 in c:\\users\\admin\\appdata\\local\\programs\\python\\python312\\lib\\site-packages (from matplotlib) (10.4.0)\n",
      "Requirement already satisfied: pyparsing>=2.3.1 in c:\\users\\admin\\appdata\\local\\programs\\python\\python312\\lib\\site-packages (from matplotlib) (3.1.4)\n",
      "Requirement already satisfied: python-dateutil>=2.7 in c:\\users\\admin\\appdata\\local\\programs\\python\\python312\\lib\\site-packages (from matplotlib) (2.9.0.post0)\n",
      "Requirement already satisfied: beautifulsoup4 in c:\\users\\admin\\appdata\\local\\programs\\python\\python312\\lib\\site-packages (from gdown) (4.12.3)\n",
      "Requirement already satisfied: filelock in c:\\users\\admin\\appdata\\local\\programs\\python\\python312\\lib\\site-packages (from gdown) (3.15.4)\n",
      "Requirement already satisfied: requests[socks] in c:\\users\\admin\\appdata\\local\\programs\\python\\python312\\lib\\site-packages (from gdown) (2.32.3)\n",
      "Requirement already satisfied: tqdm in c:\\users\\admin\\appdata\\local\\programs\\python\\python312\\lib\\site-packages (from gdown) (4.66.5)\n",
      "Requirement already satisfied: six>=1.5 in c:\\users\\admin\\appdata\\local\\programs\\python\\python312\\lib\\site-packages (from python-dateutil>=2.7->matplotlib) (1.16.0)\n",
      "Requirement already satisfied: soupsieve>1.2 in c:\\users\\admin\\appdata\\local\\programs\\python\\python312\\lib\\site-packages (from beautifulsoup4->gdown) (2.6)\n",
      "Requirement already satisfied: charset-normalizer<4,>=2 in c:\\users\\admin\\appdata\\local\\programs\\python\\python312\\lib\\site-packages (from requests[socks]->gdown) (3.3.2)\n",
      "Requirement already satisfied: idna<4,>=2.5 in c:\\users\\admin\\appdata\\local\\programs\\python\\python312\\lib\\site-packages (from requests[socks]->gdown) (3.8)\n",
      "Requirement already satisfied: urllib3<3,>=1.21.1 in c:\\users\\admin\\appdata\\local\\programs\\python\\python312\\lib\\site-packages (from requests[socks]->gdown) (2.2.2)\n",
      "Requirement already satisfied: certifi>=2017.4.17 in c:\\users\\admin\\appdata\\local\\programs\\python\\python312\\lib\\site-packages (from requests[socks]->gdown) (2024.8.30)\n",
      "Requirement already satisfied: PySocks!=1.5.7,>=1.5.6 in c:\\users\\admin\\appdata\\local\\programs\\python\\python312\\lib\\site-packages (from requests[socks]->gdown) (1.7.1)\n",
      "Requirement already satisfied: colorama in c:\\users\\admin\\appdata\\roaming\\python\\python312\\site-packages (from tqdm->gdown) (0.4.6)\n"
     ]
    }
   ],
   "source": [
    "!pip install opencv-python matplotlib imageio gdown"
   ]
  },
  {
   "cell_type": "code",
   "execution_count": 2,
   "metadata": {},
   "outputs": [],
   "source": [
    "import os\n",
    "import cv2\n",
    "import tensorflow as tf\n",
    "import numpy as np\n",
    "from typing import List\n",
    "from matplotlib import pyplot as plt\n",
    "import imageio"
   ]
  },
  {
   "cell_type": "code",
   "execution_count": 3,
   "metadata": {},
   "outputs": [
    {
     "data": {
      "text/plain": [
       "[]"
      ]
     },
     "execution_count": 3,
     "metadata": {},
     "output_type": "execute_result"
    }
   ],
   "source": [
    "tf.config.list_physical_devices('GPU')"
   ]
  },
  {
   "cell_type": "code",
   "execution_count": 4,
   "metadata": {},
   "outputs": [],
   "source": [
    "physical_devices = tf.config.list_physical_devices('GPU')\n",
    "try:\n",
    "    tf.config.experimental.set_memory_growth(physical_devices[0], True)\n",
    "except:\n",
    "    pass"
   ]
  },
  {
   "cell_type": "markdown",
   "metadata": {},
   "source": [
    "# Build Data Loading Functions"
   ]
  },
  {
   "cell_type": "code",
   "execution_count": 5,
   "metadata": {},
   "outputs": [],
   "source": [
    "import gdown"
   ]
  },
  {
   "cell_type": "code",
   "execution_count": 6,
   "metadata": {},
   "outputs": [],
   "source": [
    "#url = 'https://drive.google.com/uc?id=1YlvpDLix3S-U8fd-gqRwPcWXAXm8JwjL'\n",
    "#output = 'data.zip'\n",
    "#gdown.download(url, output, quiet=False)\n",
    "#gdown.extractall('data.zip')\n"
   ]
  },
  {
   "cell_type": "code",
   "execution_count": 7,
   "metadata": {},
   "outputs": [],
   "source": [
    "def load_video(path:str) -> List[float]: \n",
    "\n",
    "    cap = cv2.VideoCapture(path)\n",
    "    frames = []\n",
    "    for _ in range(int(cap.get(cv2.CAP_PROP_FRAME_COUNT))): \n",
    "        ret, frame = cap.read()\n",
    "        frame = tf.image.rgb_to_grayscale(frame)\n",
    "        frames.append(frame[190:236,80:220,:])\n",
    "    cap.release()\n",
    "    \n",
    "    mean = tf.math.reduce_mean(frames)\n",
    "    std = tf.math.reduce_std(tf.cast(frames, tf.float32))\n",
    "    return tf.cast((frames - mean), tf.float32) / std"
   ]
  },
  {
   "cell_type": "code",
   "execution_count": 8,
   "metadata": {},
   "outputs": [],
   "source": [
    "vocab = [x for x in \"abcdefghijklmnopqrstuvwxyz'?!123456789 \"]"
   ]
  },
  {
   "cell_type": "code",
   "execution_count": 9,
   "metadata": {},
   "outputs": [
    {
     "name": "stdout",
     "output_type": "stream",
     "text": [
      "The vocabulary is: ['', 'a', 'b', 'c', 'd', 'e', 'f', 'g', 'h', 'i', 'j', 'k', 'l', 'm', 'n', 'o', 'p', 'q', 'r', 's', 't', 'u', 'v', 'w', 'x', 'y', 'z', \"'\", '?', '!', '1', '2', '3', '4', '5', '6', '7', '8', '9', ' '] (size =40)\n"
     ]
    }
   ],
   "source": [
    "char_to_num = tf.keras.layers.StringLookup(vocabulary=vocab, oov_token=\"\")\n",
    "num_to_char = tf.keras.layers.StringLookup(\n",
    "    vocabulary=char_to_num.get_vocabulary(), oov_token=\"\", invert=True\n",
    ")\n",
    "\n",
    "print(\n",
    "    f\"The vocabulary is: {char_to_num.get_vocabulary()} \"\n",
    "    f\"(size ={char_to_num.vocabulary_size()})\"\n",
    ")"
   ]
  },
  {
   "cell_type": "code",
   "execution_count": 10,
   "metadata": {},
   "outputs": [
    {
     "data": {
      "text/plain": [
       "['',\n",
       " 'a',\n",
       " 'b',\n",
       " 'c',\n",
       " 'd',\n",
       " 'e',\n",
       " 'f',\n",
       " 'g',\n",
       " 'h',\n",
       " 'i',\n",
       " 'j',\n",
       " 'k',\n",
       " 'l',\n",
       " 'm',\n",
       " 'n',\n",
       " 'o',\n",
       " 'p',\n",
       " 'q',\n",
       " 'r',\n",
       " 's',\n",
       " 't',\n",
       " 'u',\n",
       " 'v',\n",
       " 'w',\n",
       " 'x',\n",
       " 'y',\n",
       " 'z',\n",
       " \"'\",\n",
       " '?',\n",
       " '!',\n",
       " '1',\n",
       " '2',\n",
       " '3',\n",
       " '4',\n",
       " '5',\n",
       " '6',\n",
       " '7',\n",
       " '8',\n",
       " '9',\n",
       " ' ']"
      ]
     },
     "execution_count": 10,
     "metadata": {},
     "output_type": "execute_result"
    }
   ],
   "source": [
    "char_to_num.get_vocabulary()"
   ]
  },
  {
   "cell_type": "code",
   "execution_count": 11,
   "metadata": {},
   "outputs": [
    {
     "data": {
      "text/plain": [
       "<tf.Tensor: shape=(7,), dtype=int64, numpy=array([ 4,  8,  1,  9, 18, 25,  1], dtype=int64)>"
      ]
     },
     "execution_count": 11,
     "metadata": {},
     "output_type": "execute_result"
    }
   ],
   "source": [
    "char_to_num(['d','h','a','i','r','y','a'])\n"
   ]
  },
  {
   "cell_type": "code",
   "execution_count": 12,
   "metadata": {},
   "outputs": [
    {
     "data": {
      "text/plain": [
       "<tf.Tensor: shape=(9,), dtype=string, numpy=array([b'h', b'i', b'n', b'd', b'o', b'r', b'i', b'y', b'a'], dtype=object)>"
      ]
     },
     "execution_count": 12,
     "metadata": {},
     "output_type": "execute_result"
    }
   ],
   "source": [
    "num_to_char([ 8,  9, 14,  4, 15, 18,  9, 25,  1])"
   ]
  },
  {
   "cell_type": "code",
   "execution_count": 13,
   "metadata": {},
   "outputs": [],
   "source": [
    "def load_alignments(path:str) -> List[str]: \n",
    "    with open(path, 'r') as f: \n",
    "        lines = f.readlines() \n",
    "    tokens = []\n",
    "    for line in lines:\n",
    "        line = line.split()\n",
    "        if line[2] != 'sil': \n",
    "            tokens = [*tokens,' ',line[2]]\n",
    "    return char_to_num(tf.reshape(tf.strings.unicode_split(tokens, input_encoding='UTF-8'), (-1)))[1:]"
   ]
  },
  {
   "cell_type": "code",
   "execution_count": 14,
   "metadata": {},
   "outputs": [],
   "source": [
    "def load_data(path: str): \n",
    "    path = bytes.decode(path.numpy())\n",
    "    file_name = path.split('/')[-1].split('.')[0]\n",
    "    # File name splitting for windows\n",
    "    file_name = path.split('\\\\')[-1].split('.')[0]\n",
    "    video_path = os.path.join('data','s1',f'{file_name}.mpg')\n",
    "    alignment_path = os.path.join('data','alignments','s1',f'{file_name}.align')\n",
    "    frames = load_video(video_path) \n",
    "    alignments = load_alignments(alignment_path)\n",
    "    \n",
    "    return frames, alignments\n"
   ]
  },
  {
   "cell_type": "code",
   "execution_count": 15,
   "metadata": {},
   "outputs": [],
   "source": [
    "test_path = 'C:\\\\Users\\\\Admin\\\\OneDrive\\\\Desktop\\\\Lip_Read\\\\data\\\\s1\\\\bbal8p.mpg'"
   ]
  },
  {
   "cell_type": "code",
   "execution_count": 16,
   "metadata": {},
   "outputs": [
    {
     "data": {
      "text/plain": [
       "'bbal8p'"
      ]
     },
     "execution_count": 16,
     "metadata": {},
     "output_type": "execute_result"
    }
   ],
   "source": [
    "tf.convert_to_tensor(test_path).numpy().decode('utf-8').split('\\\\')[-1].split('.')[0]"
   ]
  },
  {
   "cell_type": "code",
   "execution_count": 17,
   "metadata": {},
   "outputs": [],
   "source": [
    "frames, alignments = load_data(tf.convert_to_tensor(test_path))\n",
    "\n"
   ]
  },
  {
   "cell_type": "code",
   "execution_count": 18,
   "metadata": {},
   "outputs": [
    {
     "data": {
      "text/plain": [
       "<matplotlib.image.AxesImage at 0x268dea6f1d0>"
      ]
     },
     "execution_count": 18,
     "metadata": {},
     "output_type": "execute_result"
    },
    {
     "data": {
      "image/png": "[encoded data removed]",
      "text/plain": [
       "<Figure size 640x480 with 1 Axes>"
      ]
     },
     "metadata": {},
     "output_type": "display_data"
    }
   ],
   "source": [
    "plt.imshow(frames[40])"
   ]
  },
  {
   "cell_type": "code",
   "execution_count": 19,
   "metadata": {},
   "outputs": [
    {
     "data": {
      "text/plain": [
       "<tf.Tensor: shape=(26,), dtype=int64, numpy=\n",
       "array([ 2,  9, 14, 39,  2, 12, 21,  5, 39,  1, 20, 39, 12, 39,  5,  9,  7,\n",
       "        8, 20, 39, 16, 12,  5,  1, 19,  5], dtype=int64)>"
      ]
     },
     "execution_count": 19,
     "metadata": {},
     "output_type": "execute_result"
    }
   ],
   "source": [
    "alignments"
   ]
  },
  {
   "cell_type": "code",
   "execution_count": 20,
   "metadata": {},
   "outputs": [
    {
     "data": {
      "text/plain": [
       "<tf.Tensor: shape=(75, 46, 140, 1), dtype=float32, numpy=\n",
       "array([[[[1.3058484 ],\n",
       "         [1.3058484 ],\n",
       "         [1.3804682 ],\n",
       "         ...,\n",
       "         [0.783509  ],\n",
       "         [0.82081896],\n",
       "         [0.14923981]],\n",
       "\n",
       "        [[1.3058484 ],\n",
       "         [1.3058484 ],\n",
       "         [1.3804682 ],\n",
       "         ...,\n",
       "         [0.5596493 ],\n",
       "         [0.82081896],\n",
       "         [9.290178  ]],\n",
       "\n",
       "        [[1.2685384 ],\n",
       "         [1.2685384 ],\n",
       "         [1.2685384 ],\n",
       "         ...,\n",
       "         [0.03730995],\n",
       "         [0.22385971],\n",
       "         [9.327488  ]],\n",
       "\n",
       "        ...,\n",
       "\n",
       "        [[0.9327488 ],\n",
       "         [0.9327488 ],\n",
       "         [0.89543885],\n",
       "         ...,\n",
       "         [0.03730995],\n",
       "         [0.        ],\n",
       "         [0.        ]],\n",
       "\n",
       "        [[0.9327488 ],\n",
       "         [0.9327488 ],\n",
       "         [0.89543885],\n",
       "         ...,\n",
       "         [0.        ],\n",
       "         [9.514038  ],\n",
       "         [9.514038  ]],\n",
       "\n",
       "        [[0.9327488 ],\n",
       "         [0.9327488 ],\n",
       "         [0.89543885],\n",
       "         ...,\n",
       "         [0.        ],\n",
       "         [9.514038  ],\n",
       "         [9.514038  ]]],\n",
       "\n",
       "\n",
       "       [[[1.3431582 ],\n",
       "         [1.3431582 ],\n",
       "         [1.3431582 ],\n",
       "         ...,\n",
       "         [0.7088891 ],\n",
       "         [0.82081896],\n",
       "         [0.44771942]],\n",
       "\n",
       "        [[1.3431582 ],\n",
       "         [1.3431582 ],\n",
       "         [1.3431582 ],\n",
       "         ...,\n",
       "         [0.4850294 ],\n",
       "         [0.82081896],\n",
       "         [9.215558  ]],\n",
       "\n",
       "        [[1.3058484 ],\n",
       "         [1.3058484 ],\n",
       "         [1.3058484 ],\n",
       "         ...,\n",
       "         [0.26116967],\n",
       "         [0.26116967],\n",
       "         [9.0663185 ]],\n",
       "\n",
       "        ...,\n",
       "\n",
       "        [[0.9327488 ],\n",
       "         [0.9327488 ],\n",
       "         [0.89543885],\n",
       "         ...,\n",
       "         [0.0746199 ],\n",
       "         [0.        ],\n",
       "         [9.514038  ]],\n",
       "\n",
       "        [[0.9327488 ],\n",
       "         [0.9327488 ],\n",
       "         [0.89543885],\n",
       "         ...,\n",
       "         [0.03730995],\n",
       "         [9.514038  ],\n",
       "         [9.476728  ]],\n",
       "\n",
       "        [[0.9327488 ],\n",
       "         [0.9327488 ],\n",
       "         [0.89543885],\n",
       "         ...,\n",
       "         [0.03730995],\n",
       "         [9.514038  ],\n",
       "         [9.476728  ]]],\n",
       "\n",
       "\n",
       "       [[[1.3804682 ],\n",
       "         [1.3804682 ],\n",
       "         [1.3804682 ],\n",
       "         ...,\n",
       "         [0.7461991 ],\n",
       "         [0.8581289 ],\n",
       "         [0.4850294 ]],\n",
       "\n",
       "        [[1.3804682 ],\n",
       "         [1.3804682 ],\n",
       "         [1.3804682 ],\n",
       "         ...,\n",
       "         [0.4850294 ],\n",
       "         [0.783509  ],\n",
       "         [9.252869  ]],\n",
       "\n",
       "        [[1.2685384 ],\n",
       "         [1.2685384 ],\n",
       "         [1.2685384 ],\n",
       "         ...,\n",
       "         [0.41040948],\n",
       "         [0.29847962],\n",
       "         [9.0663185 ]],\n",
       "\n",
       "        ...,\n",
       "\n",
       "        [[0.9327488 ],\n",
       "         [0.9327488 ],\n",
       "         [0.9327488 ],\n",
       "         ...,\n",
       "         [0.11192986],\n",
       "         [0.03730995],\n",
       "         [0.        ]],\n",
       "\n",
       "        [[0.9327488 ],\n",
       "         [0.9327488 ],\n",
       "         [0.9327488 ],\n",
       "         ...,\n",
       "         [0.        ],\n",
       "         [9.514038  ],\n",
       "         [9.476728  ]],\n",
       "\n",
       "        [[0.9327488 ],\n",
       "         [0.9327488 ],\n",
       "         [0.9327488 ],\n",
       "         ...,\n",
       "         [0.        ],\n",
       "         [9.514038  ],\n",
       "         [9.476728  ]]],\n",
       "\n",
       "\n",
       "       ...,\n",
       "\n",
       "\n",
       "       [[[1.3804682 ],\n",
       "         [1.3804682 ],\n",
       "         [1.4177783 ],\n",
       "         ...,\n",
       "         [0.6342692 ],\n",
       "         [0.9700588 ],\n",
       "         [0.59695923]],\n",
       "\n",
       "        [[1.3804682 ],\n",
       "         [1.3804682 ],\n",
       "         [1.4177783 ],\n",
       "         ...,\n",
       "         [0.44771942],\n",
       "         [0.82081896],\n",
       "         [0.11192986]],\n",
       "\n",
       "        [[1.4177783 ],\n",
       "         [1.3431582 ],\n",
       "         [1.3431582 ],\n",
       "         ...,\n",
       "         [0.26116967],\n",
       "         [0.37309954],\n",
       "         [9.178248  ]],\n",
       "\n",
       "        ...,\n",
       "\n",
       "        [[0.9700588 ],\n",
       "         [0.9327488 ],\n",
       "         [0.9327488 ],\n",
       "         ...,\n",
       "         [0.0746199 ],\n",
       "         [0.0746199 ],\n",
       "         [0.0746199 ]],\n",
       "\n",
       "        [[0.9700588 ],\n",
       "         [0.9327488 ],\n",
       "         [0.9327488 ],\n",
       "         ...,\n",
       "         [0.11192986],\n",
       "         [0.0746199 ],\n",
       "         [0.0746199 ]],\n",
       "\n",
       "        [[0.9700588 ],\n",
       "         [0.9327488 ],\n",
       "         [0.9327488 ],\n",
       "         ...,\n",
       "         [0.0746199 ],\n",
       "         [0.0746199 ],\n",
       "         [0.03730995]]],\n",
       "\n",
       "\n",
       "       [[[1.3058484 ],\n",
       "         [1.3058484 ],\n",
       "         [1.4177783 ],\n",
       "         ...,\n",
       "         [0.7088891 ],\n",
       "         [0.9700588 ],\n",
       "         [0.7088891 ]],\n",
       "\n",
       "        [[1.3058484 ],\n",
       "         [1.3058484 ],\n",
       "         [1.4177783 ],\n",
       "         ...,\n",
       "         [0.44771942],\n",
       "         [0.8581289 ],\n",
       "         [0.03730995]],\n",
       "\n",
       "        [[1.3431582 ],\n",
       "         [1.3058484 ],\n",
       "         [1.3058484 ],\n",
       "         ...,\n",
       "         [0.41040948],\n",
       "         [0.4850294 ],\n",
       "         [9.140939  ]],\n",
       "\n",
       "        ...,\n",
       "\n",
       "        [[0.9700588 ],\n",
       "         [0.89543885],\n",
       "         [0.89543885],\n",
       "         ...,\n",
       "         [0.11192986],\n",
       "         [0.0746199 ],\n",
       "         [0.0746199 ]],\n",
       "\n",
       "        [[0.9700588 ],\n",
       "         [0.89543885],\n",
       "         [0.89543885],\n",
       "         ...,\n",
       "         [0.18654977],\n",
       "         [0.03730995],\n",
       "         [0.03730995]],\n",
       "\n",
       "        [[0.9700588 ],\n",
       "         [0.89543885],\n",
       "         [0.89543885],\n",
       "         ...,\n",
       "         [0.14923981],\n",
       "         [0.03730995],\n",
       "         [0.        ]]],\n",
       "\n",
       "\n",
       "       [[[1.3058484 ],\n",
       "         [1.3058484 ],\n",
       "         [1.4177783 ],\n",
       "         ...,\n",
       "         [0.783509  ],\n",
       "         [1.0073687 ],\n",
       "         [0.59695923]],\n",
       "\n",
       "        [[1.3058484 ],\n",
       "         [1.3058484 ],\n",
       "         [1.4177783 ],\n",
       "         ...,\n",
       "         [0.52233934],\n",
       "         [0.89543885],\n",
       "         [9.327488  ]],\n",
       "\n",
       "        [[1.3058484 ],\n",
       "         [1.2685384 ],\n",
       "         [1.3058484 ],\n",
       "         ...,\n",
       "         [0.37309954],\n",
       "         [0.44771942],\n",
       "         [9.0663185 ]],\n",
       "\n",
       "        ...,\n",
       "\n",
       "        [[0.9700588 ],\n",
       "         [0.89543885],\n",
       "         [0.89543885],\n",
       "         ...,\n",
       "         [0.11192986],\n",
       "         [0.0746199 ],\n",
       "         [0.0746199 ]],\n",
       "\n",
       "        [[0.9700588 ],\n",
       "         [0.89543885],\n",
       "         [0.89543885],\n",
       "         ...,\n",
       "         [0.14923981],\n",
       "         [0.03730995],\n",
       "         [0.03730995]],\n",
       "\n",
       "        [[0.9700588 ],\n",
       "         [0.89543885],\n",
       "         [0.89543885],\n",
       "         ...,\n",
       "         [0.11192986],\n",
       "         [0.03730995],\n",
       "         [0.        ]]]], dtype=float32)>"
      ]
     },
     "execution_count": 20,
     "metadata": {},
     "output_type": "execute_result"
    }
   ],
   "source": [
    "frames"
   ]
  },
  {
   "cell_type": "code",
   "execution_count": 21,
   "metadata": {},
   "outputs": [
    {
     "data": {
      "text/plain": [
       "<tf.Tensor: shape=(), dtype=string, numpy=b'bin blue at l eight please'>"
      ]
     },
     "execution_count": 21,
     "metadata": {},
     "output_type": "execute_result"
    }
   ],
   "source": [
    "tf.strings.reduce_join([bytes.decode(x) for x in num_to_char(alignments.numpy()).numpy()])"
   ]
  },
  {
   "cell_type": "code",
   "execution_count": 22,
   "metadata": {},
   "outputs": [],
   "source": [
    "def mappable_function(path:str) ->List[str]:\n",
    "    result = tf.py_function(load_data, [path], (tf.float32, tf.int64))\n",
    "    return result"
   ]
  },
  {
   "cell_type": "code",
   "execution_count": 23,
   "metadata": {},
   "outputs": [
    {
     "data": {
      "text/plain": [
       "<function __main__.mappable_function(path: str) -> List[str]>"
      ]
     },
     "execution_count": 23,
     "metadata": {},
     "output_type": "execute_result"
    }
   ],
   "source": [
    "mappable_function"
   ]
  },
  {
   "cell_type": "markdown",
   "metadata": {},
   "source": [
    "# Create Data Pipeline"
   ]
  },
  {
   "cell_type": "code",
   "execution_count": 24,
   "metadata": {},
   "outputs": [],
   "source": [
    "from matplotlib import pyplot as plt"
   ]
  },
  {
   "cell_type": "code",
   "execution_count": 25,
   "metadata": {},
   "outputs": [],
   "source": [
    "data = tf.data.Dataset.list_files('C:\\\\Users\\\\Admin\\\\OneDrive\\\\Desktop\\\\Lip_Read\\\\data\\\\s1\\\\*.mpg')\n",
    "data = data.shuffle(500, reshuffle_each_iteration=False)\n",
    "data = data.map(mappable_function)\n",
    "data = data.padded_batch(2, padded_shapes=([75,None,None,None],[40]))\n",
    "data = data.prefetch(tf.data.AUTOTUNE)\n",
    "# Added for split \n",
    "train = data.take(450)\n",
    "test = data.skip(450)"
   ]
  },
  {
   "cell_type": "code",
   "execution_count": 26,
   "metadata": {},
   "outputs": [
    {
     "data": {
      "text/plain": [
       "<_PrefetchDataset element_spec=(TensorSpec(shape=(None, 75, None, None, None), dtype=tf.float32, name=None), TensorSpec(shape=(None, 40), dtype=tf.int64, name=None))>"
      ]
     },
     "execution_count": 26,
     "metadata": {},
     "output_type": "execute_result"
    }
   ],
   "source": [
    "data\n"
   ]
  },
  {
   "cell_type": "code",
   "execution_count": 27,
   "metadata": {},
   "outputs": [
    {
     "data": {
      "text/plain": [
       "50"
      ]
     },
     "execution_count": 27,
     "metadata": {},
     "output_type": "execute_result"
    }
   ],
   "source": [
    "len(test)"
   ]
  },
  {
   "cell_type": "code",
   "execution_count": 28,
   "metadata": {},
   "outputs": [],
   "source": [
    "frames, alignments = data.as_numpy_iterator().next()"
   ]
  },
  {
   "cell_type": "code",
   "execution_count": 29,
   "metadata": {},
   "outputs": [
    {
     "data": {
      "text/plain": [
       "2"
      ]
     },
     "execution_count": 29,
     "metadata": {},
     "output_type": "execute_result"
    }
   ],
   "source": [
    "len(frames)"
   ]
  },
  {
   "cell_type": "code",
   "execution_count": 30,
   "metadata": {},
   "outputs": [
    {
     "data": {
      "text/plain": [
       "2"
      ]
     },
     "execution_count": 30,
     "metadata": {},
     "output_type": "execute_result"
    }
   ],
   "source": [
    "len(alignments)"
   ]
  },
  {
   "cell_type": "code",
   "execution_count": 31,
   "metadata": {},
   "outputs": [],
   "source": [
    "sample = data.as_numpy_iterator()"
   ]
  },
  {
   "cell_type": "code",
   "execution_count": 32,
   "metadata": {},
   "outputs": [
    {
     "data": {
      "text/plain": [
       "NumpyIterator(iterator=<tensorflow.python.data.ops.iterator_ops.OwnedIterator object at 0x00000268E04F8BF0>)"
      ]
     },
     "execution_count": 32,
     "metadata": {},
     "output_type": "execute_result"
    }
   ],
   "source": [
    "sample"
   ]
  },
  {
   "cell_type": "code",
   "execution_count": 33,
   "metadata": {},
   "outputs": [
    {
     "data": {
      "text/plain": [
       "array([[[[[ 1.4601045 ],\n",
       "          [ 1.4601045 ],\n",
       "          [ 1.4995668 ],\n",
       "          ...,\n",
       "          [ 0.27623597],\n",
       "          [ 0.19731142],\n",
       "          [ 0.19731142]],\n",
       "\n",
       "         [[ 1.4601045 ],\n",
       "          [ 1.4601045 ],\n",
       "          [ 1.4995668 ],\n",
       "          ...,\n",
       "          [ 0.27623597],\n",
       "          [ 0.19731142],\n",
       "          [ 0.19731142]],\n",
       "\n",
       "         [[ 1.4601045 ],\n",
       "          [ 1.4601045 ],\n",
       "          [ 1.4206421 ],\n",
       "          ...,\n",
       "          [ 0.27623597],\n",
       "          [ 0.2367737 ],\n",
       "          [ 0.2367737 ]],\n",
       "\n",
       "         ...,\n",
       "\n",
       "         [[ 1.0260193 ],\n",
       "          [ 0.98655707],\n",
       "          [ 0.98655707],\n",
       "          ...,\n",
       "          [ 0.03946228],\n",
       "          [ 0.03946228],\n",
       "          [ 0.        ]],\n",
       "\n",
       "         [[ 0.98655707],\n",
       "          [ 0.98655707],\n",
       "          [ 0.98655707],\n",
       "          ...,\n",
       "          [ 0.        ],\n",
       "          [10.062882  ],\n",
       "          [10.062882  ]],\n",
       "\n",
       "         [[ 0.98655707],\n",
       "          [ 0.98655707],\n",
       "          [ 0.98655707],\n",
       "          ...,\n",
       "          [10.062882  ],\n",
       "          [10.062882  ],\n",
       "          [10.02342   ]]],\n",
       "\n",
       "\n",
       "        [[[ 1.4995668 ],\n",
       "          [ 1.4995668 ],\n",
       "          [ 1.4995668 ],\n",
       "          ...,\n",
       "          [ 0.31569827],\n",
       "          [ 0.27623597],\n",
       "          [ 0.27623597]],\n",
       "\n",
       "         [[ 1.4995668 ],\n",
       "          [ 1.4995668 ],\n",
       "          [ 1.4995668 ],\n",
       "          ...,\n",
       "          [ 0.31569827],\n",
       "          [ 0.27623597],\n",
       "          [ 0.27623597]],\n",
       "\n",
       "         [[ 1.4995668 ],\n",
       "          [ 1.4995668 ],\n",
       "          [ 1.4206421 ],\n",
       "          ...,\n",
       "          [ 0.2367737 ],\n",
       "          [ 0.15784913],\n",
       "          [ 0.15784913]],\n",
       "\n",
       "         ...,\n",
       "\n",
       "         [[ 0.98655707],\n",
       "          [ 0.98655707],\n",
       "          [ 0.98655707],\n",
       "          ...,\n",
       "          [ 0.        ],\n",
       "          [ 0.        ],\n",
       "          [10.062882  ]],\n",
       "\n",
       "         [[ 0.98655707],\n",
       "          [ 0.98655707],\n",
       "          [ 0.9470948 ],\n",
       "          ...,\n",
       "          [10.062882  ],\n",
       "          [10.02342   ],\n",
       "          [10.02342   ]],\n",
       "\n",
       "         [[ 0.9470948 ],\n",
       "          [ 0.9470948 ],\n",
       "          [ 0.9470948 ],\n",
       "          ...,\n",
       "          [10.02342   ],\n",
       "          [10.02342   ],\n",
       "          [ 9.983957  ]]],\n",
       "\n",
       "\n",
       "        [[[ 1.4601045 ],\n",
       "          [ 1.4601045 ],\n",
       "          [ 1.4206421 ],\n",
       "          ...,\n",
       "          [ 0.27623597],\n",
       "          [ 0.19731142],\n",
       "          [ 0.19731142]],\n",
       "\n",
       "         [[ 1.4601045 ],\n",
       "          [ 1.4601045 ],\n",
       "          [ 1.4206421 ],\n",
       "          ...,\n",
       "          [ 0.27623597],\n",
       "          [ 0.19731142],\n",
       "          [ 0.19731142]],\n",
       "\n",
       "         [[ 1.4995668 ],\n",
       "          [ 1.4995668 ],\n",
       "          [ 1.4206421 ],\n",
       "          ...,\n",
       "          [ 0.2367737 ],\n",
       "          [ 0.2367737 ],\n",
       "          [ 0.2367737 ]],\n",
       "\n",
       "         ...,\n",
       "\n",
       "         [[ 0.98655707],\n",
       "          [ 0.98655707],\n",
       "          [ 0.98655707],\n",
       "          ...,\n",
       "          [ 0.        ],\n",
       "          [ 0.        ],\n",
       "          [10.062882  ]],\n",
       "\n",
       "         [[ 0.98655707],\n",
       "          [ 0.98655707],\n",
       "          [ 0.9470948 ],\n",
       "          ...,\n",
       "          [10.062882  ],\n",
       "          [10.02342   ],\n",
       "          [10.02342   ]],\n",
       "\n",
       "         [[ 0.98655707],\n",
       "          [ 0.9470948 ],\n",
       "          [ 0.9470948 ],\n",
       "          ...,\n",
       "          [10.02342   ],\n",
       "          [10.02342   ],\n",
       "          [ 9.983957  ]]],\n",
       "\n",
       "\n",
       "        ...,\n",
       "\n",
       "\n",
       "        [[[ 1.3811799 ],\n",
       "          [ 1.3811799 ],\n",
       "          [ 1.4206421 ],\n",
       "          ...,\n",
       "          [ 0.2367737 ],\n",
       "          [ 0.27623597],\n",
       "          [ 0.27623597]],\n",
       "\n",
       "         [[ 1.3811799 ],\n",
       "          [ 1.3811799 ],\n",
       "          [ 1.4206421 ],\n",
       "          ...,\n",
       "          [ 0.2367737 ],\n",
       "          [ 0.27623597],\n",
       "          [ 0.27623597]],\n",
       "\n",
       "         [[ 1.3417176 ],\n",
       "          [ 1.3022554 ],\n",
       "          [ 1.3811799 ],\n",
       "          ...,\n",
       "          [ 0.27623597],\n",
       "          [ 0.27623597],\n",
       "          [ 0.27623597]],\n",
       "\n",
       "         ...,\n",
       "\n",
       "         [[ 0.9470948 ],\n",
       "          [ 0.9470948 ],\n",
       "          [ 0.9470948 ],\n",
       "          ...,\n",
       "          [10.062882  ],\n",
       "          [10.062882  ],\n",
       "          [10.062882  ]],\n",
       "\n",
       "         [[ 0.9470948 ],\n",
       "          [ 0.9470948 ],\n",
       "          [ 0.9470948 ],\n",
       "          ...,\n",
       "          [10.062882  ],\n",
       "          [10.02342   ],\n",
       "          [10.02342   ]],\n",
       "\n",
       "         [[ 0.9470948 ],\n",
       "          [ 0.9470948 ],\n",
       "          [ 0.9076325 ],\n",
       "          ...,\n",
       "          [10.062882  ],\n",
       "          [10.02342   ],\n",
       "          [ 9.983957  ]]],\n",
       "\n",
       "\n",
       "        [[[ 1.3811799 ],\n",
       "          [ 1.3811799 ],\n",
       "          [ 1.4206421 ],\n",
       "          ...,\n",
       "          [ 0.27623597],\n",
       "          [ 0.2367737 ],\n",
       "          [ 0.2367737 ]],\n",
       "\n",
       "         [[ 1.3811799 ],\n",
       "          [ 1.3811799 ],\n",
       "          [ 1.4206421 ],\n",
       "          ...,\n",
       "          [ 0.27623597],\n",
       "          [ 0.2367737 ],\n",
       "          [ 0.2367737 ]],\n",
       "\n",
       "         [[ 1.539029  ],\n",
       "          [ 1.4601045 ],\n",
       "          [ 1.4206421 ],\n",
       "          ...,\n",
       "          [ 0.27623597],\n",
       "          [ 0.27623597],\n",
       "          [ 0.27623597]],\n",
       "\n",
       "         ...,\n",
       "\n",
       "         [[ 1.0260193 ],\n",
       "          [ 0.98655707],\n",
       "          [ 0.98655707],\n",
       "          ...,\n",
       "          [10.062882  ],\n",
       "          [10.062882  ],\n",
       "          [10.062882  ]],\n",
       "\n",
       "         [[ 1.0260193 ],\n",
       "          [ 0.98655707],\n",
       "          [ 0.98655707],\n",
       "          ...,\n",
       "          [10.062882  ],\n",
       "          [10.02342   ],\n",
       "          [10.02342   ]],\n",
       "\n",
       "         [[ 0.98655707],\n",
       "          [ 0.98655707],\n",
       "          [ 0.9470948 ],\n",
       "          ...,\n",
       "          [10.062882  ],\n",
       "          [10.02342   ],\n",
       "          [ 9.983957  ]]],\n",
       "\n",
       "\n",
       "        [[[ 1.3022554 ],\n",
       "          [ 1.3022554 ],\n",
       "          [ 1.3811799 ],\n",
       "          ...,\n",
       "          [ 0.27623597],\n",
       "          [ 0.2367737 ],\n",
       "          [ 0.2367737 ]],\n",
       "\n",
       "         [[ 1.3022554 ],\n",
       "          [ 1.3022554 ],\n",
       "          [ 1.3811799 ],\n",
       "          ...,\n",
       "          [ 0.27623597],\n",
       "          [ 0.2367737 ],\n",
       "          [ 0.2367737 ]],\n",
       "\n",
       "         [[ 1.539029  ],\n",
       "          [ 1.4601045 ],\n",
       "          [ 1.4206421 ],\n",
       "          ...,\n",
       "          [ 0.19731142],\n",
       "          [ 0.19731142],\n",
       "          [ 0.19731142]],\n",
       "\n",
       "         ...,\n",
       "\n",
       "         [[ 0.98655707],\n",
       "          [ 0.98655707],\n",
       "          [ 0.98655707],\n",
       "          ...,\n",
       "          [10.062882  ],\n",
       "          [10.062882  ],\n",
       "          [10.062882  ]],\n",
       "\n",
       "         [[ 0.98655707],\n",
       "          [ 0.98655707],\n",
       "          [ 0.9470948 ],\n",
       "          ...,\n",
       "          [10.062882  ],\n",
       "          [10.02342   ],\n",
       "          [10.02342   ]],\n",
       "\n",
       "         [[ 0.98655707],\n",
       "          [ 0.9470948 ],\n",
       "          [ 0.9470948 ],\n",
       "          ...,\n",
       "          [10.062882  ],\n",
       "          [10.02342   ],\n",
       "          [ 9.983957  ]]]],\n",
       "\n",
       "\n",
       "\n",
       "       [[[[ 1.4675106 ],\n",
       "          [ 1.4675106 ],\n",
       "          [ 1.4267464 ],\n",
       "          ...,\n",
       "          [ 0.08152837],\n",
       "          [ 0.12229255],\n",
       "          [ 0.12229255]],\n",
       "\n",
       "         [[ 1.4675106 ],\n",
       "          [ 1.4675106 ],\n",
       "          [ 1.4267464 ],\n",
       "          ...,\n",
       "          [ 0.08152837],\n",
       "          [ 0.12229255],\n",
       "          [ 0.12229255]],\n",
       "\n",
       "         [[ 1.4675106 ],\n",
       "          [ 1.4675106 ],\n",
       "          [ 1.4675106 ],\n",
       "          ...,\n",
       "          [ 0.08152837],\n",
       "          [ 0.08152837],\n",
       "          [ 0.08152837]],\n",
       "\n",
       "         ...,\n",
       "\n",
       "         [[ 1.0191046 ],\n",
       "          [ 1.0191046 ],\n",
       "          [ 1.0191046 ],\n",
       "          ...,\n",
       "          [10.191046  ],\n",
       "          [10.191046  ],\n",
       "          [10.191046  ]],\n",
       "\n",
       "         [[ 1.0191046 ],\n",
       "          [ 1.0191046 ],\n",
       "          [ 1.0191046 ],\n",
       "          ...,\n",
       "          [10.191046  ],\n",
       "          [10.191046  ],\n",
       "          [10.191046  ]],\n",
       "\n",
       "         [[ 1.0191046 ],\n",
       "          [ 1.0191046 ],\n",
       "          [ 1.0191046 ],\n",
       "          ...,\n",
       "          [10.191046  ],\n",
       "          [10.191046  ],\n",
       "          [10.191046  ]]],\n",
       "\n",
       "\n",
       "        [[[ 1.5082748 ],\n",
       "          [ 1.5082748 ],\n",
       "          [ 1.4267464 ],\n",
       "          ...,\n",
       "          [ 0.08152837],\n",
       "          [ 0.04076418],\n",
       "          [ 0.04076418]],\n",
       "\n",
       "         [[ 1.5082748 ],\n",
       "          [ 1.5082748 ],\n",
       "          [ 1.4267464 ],\n",
       "          ...,\n",
       "          [ 0.08152837],\n",
       "          [ 0.04076418],\n",
       "          [ 0.04076418]],\n",
       "\n",
       "         [[ 1.5082748 ],\n",
       "          [ 1.5082748 ],\n",
       "          [ 1.5082748 ],\n",
       "          ...,\n",
       "          [ 0.08152837],\n",
       "          [ 0.08152837],\n",
       "          [ 0.08152837]],\n",
       "\n",
       "         ...,\n",
       "\n",
       "         [[ 1.0191046 ],\n",
       "          [ 1.0191046 ],\n",
       "          [ 1.0191046 ],\n",
       "          ...,\n",
       "          [10.150281  ],\n",
       "          [10.191046  ],\n",
       "          [10.191046  ]],\n",
       "\n",
       "         [[ 1.0191046 ],\n",
       "          [ 1.0191046 ],\n",
       "          [ 1.0191046 ],\n",
       "          ...,\n",
       "          [10.150281  ],\n",
       "          [10.150281  ],\n",
       "          [10.191046  ]],\n",
       "\n",
       "         [[ 1.0191046 ],\n",
       "          [ 1.0191046 ],\n",
       "          [ 1.0191046 ],\n",
       "          ...,\n",
       "          [10.150281  ],\n",
       "          [10.150281  ],\n",
       "          [10.191046  ]]],\n",
       "\n",
       "\n",
       "        [[[ 1.5490389 ],\n",
       "          [ 1.5490389 ],\n",
       "          [ 1.4267464 ],\n",
       "          ...,\n",
       "          [ 0.12229255],\n",
       "          [ 0.08152837],\n",
       "          [ 0.08152837]],\n",
       "\n",
       "         [[ 1.5490389 ],\n",
       "          [ 1.5490389 ],\n",
       "          [ 1.4267464 ],\n",
       "          ...,\n",
       "          [ 0.12229255],\n",
       "          [ 0.08152837],\n",
       "          [ 0.08152837]],\n",
       "\n",
       "         [[ 1.5082748 ],\n",
       "          [ 1.5082748 ],\n",
       "          [ 1.5082748 ],\n",
       "          ...,\n",
       "          [ 0.12229255],\n",
       "          [ 0.16305673],\n",
       "          [ 0.12229255]],\n",
       "\n",
       "         ...,\n",
       "\n",
       "         [[ 1.0191046 ],\n",
       "          [ 1.0191046 ],\n",
       "          [ 0.9783404 ],\n",
       "          ...,\n",
       "          [10.150281  ],\n",
       "          [10.150281  ],\n",
       "          [10.191046  ]],\n",
       "\n",
       "         [[ 1.0191046 ],\n",
       "          [ 1.0191046 ],\n",
       "          [ 0.9783404 ],\n",
       "          ...,\n",
       "          [10.150281  ],\n",
       "          [10.150281  ],\n",
       "          [10.191046  ]],\n",
       "\n",
       "         [[ 1.0191046 ],\n",
       "          [ 1.0191046 ],\n",
       "          [ 0.9783404 ],\n",
       "          ...,\n",
       "          [10.150281  ],\n",
       "          [10.150281  ],\n",
       "          [10.150281  ]]],\n",
       "\n",
       "\n",
       "        ...,\n",
       "\n",
       "\n",
       "        [[[ 1.6305673 ],\n",
       "          [ 1.6305673 ],\n",
       "          [ 1.6305673 ],\n",
       "          ...,\n",
       "          [ 0.16305673],\n",
       "          [ 0.08152837],\n",
       "          [ 0.08152837]],\n",
       "\n",
       "         [[ 1.6305673 ],\n",
       "          [ 1.6305673 ],\n",
       "          [ 1.6305673 ],\n",
       "          ...,\n",
       "          [ 0.12229255],\n",
       "          [ 0.08152837],\n",
       "          [ 0.08152837]],\n",
       "\n",
       "         [[ 1.5082748 ],\n",
       "          [ 1.5082748 ],\n",
       "          [ 1.5082748 ],\n",
       "          ...,\n",
       "          [ 0.12229255],\n",
       "          [ 0.12229255],\n",
       "          [ 0.12229255]],\n",
       "\n",
       "         ...,\n",
       "\n",
       "         [[ 1.0191046 ],\n",
       "          [ 1.0191046 ],\n",
       "          [ 1.0191046 ],\n",
       "          ...,\n",
       "          [10.150281  ],\n",
       "          [10.150281  ],\n",
       "          [10.150281  ]],\n",
       "\n",
       "         [[ 1.0191046 ],\n",
       "          [ 1.0191046 ],\n",
       "          [ 1.0191046 ],\n",
       "          ...,\n",
       "          [10.150281  ],\n",
       "          [10.150281  ],\n",
       "          [10.150281  ]],\n",
       "\n",
       "         [[ 1.0191046 ],\n",
       "          [ 1.0191046 ],\n",
       "          [ 0.9783404 ],\n",
       "          ...,\n",
       "          [10.150281  ],\n",
       "          [10.150281  ],\n",
       "          [10.150281  ]]],\n",
       "\n",
       "\n",
       "        [[[ 1.6305673 ],\n",
       "          [ 1.6305673 ],\n",
       "          [ 1.5898031 ],\n",
       "          ...,\n",
       "          [ 0.08152837],\n",
       "          [ 0.08152837],\n",
       "          [ 0.08152837]],\n",
       "\n",
       "         [[ 1.6305673 ],\n",
       "          [ 1.6305673 ],\n",
       "          [ 1.5898031 ],\n",
       "          ...,\n",
       "          [ 0.04076418],\n",
       "          [ 0.08152837],\n",
       "          [ 0.08152837]],\n",
       "\n",
       "         [[ 1.4675106 ],\n",
       "          [ 1.5082748 ],\n",
       "          [ 1.5082748 ],\n",
       "          ...,\n",
       "          [ 0.08152837],\n",
       "          [ 0.08152837],\n",
       "          [ 0.08152837]],\n",
       "\n",
       "         ...,\n",
       "\n",
       "         [[ 1.0191046 ],\n",
       "          [ 1.0191046 ],\n",
       "          [ 1.0191046 ],\n",
       "          ...,\n",
       "          [10.150281  ],\n",
       "          [10.150281  ],\n",
       "          [10.150281  ]],\n",
       "\n",
       "         [[ 1.0191046 ],\n",
       "          [ 1.0191046 ],\n",
       "          [ 1.0191046 ],\n",
       "          ...,\n",
       "          [10.150281  ],\n",
       "          [10.150281  ],\n",
       "          [10.150281  ]],\n",
       "\n",
       "         [[ 1.0191046 ],\n",
       "          [ 1.0191046 ],\n",
       "          [ 0.9783404 ],\n",
       "          ...,\n",
       "          [10.150281  ],\n",
       "          [10.150281  ],\n",
       "          [10.150281  ]]],\n",
       "\n",
       "\n",
       "        [[[ 1.6305673 ],\n",
       "          [ 1.6305673 ],\n",
       "          [ 1.5898031 ],\n",
       "          ...,\n",
       "          [ 0.16305673],\n",
       "          [ 0.08152837],\n",
       "          [ 0.08152837]],\n",
       "\n",
       "         [[ 1.6305673 ],\n",
       "          [ 1.6305673 ],\n",
       "          [ 1.5898031 ],\n",
       "          ...,\n",
       "          [ 0.12229255],\n",
       "          [ 0.08152837],\n",
       "          [ 0.08152837]],\n",
       "\n",
       "         [[ 1.4675106 ],\n",
       "          [ 1.5082748 ],\n",
       "          [ 1.5082748 ],\n",
       "          ...,\n",
       "          [ 0.08152837],\n",
       "          [ 0.12229255],\n",
       "          [ 0.08152837]],\n",
       "\n",
       "         ...,\n",
       "\n",
       "         [[ 1.1006329 ],\n",
       "          [ 1.1006329 ],\n",
       "          [ 1.1006329 ],\n",
       "          ...,\n",
       "          [10.23181   ],\n",
       "          [10.23181   ],\n",
       "          [10.23181   ]],\n",
       "\n",
       "         [[ 1.1006329 ],\n",
       "          [ 1.1006329 ],\n",
       "          [ 1.0191046 ],\n",
       "          ...,\n",
       "          [10.191046  ],\n",
       "          [10.191046  ],\n",
       "          [10.191046  ]],\n",
       "\n",
       "         [[ 1.1006329 ],\n",
       "          [ 1.0191046 ],\n",
       "          [ 1.0191046 ],\n",
       "          ...,\n",
       "          [10.191046  ],\n",
       "          [10.191046  ],\n",
       "          [10.191046  ]]]]], dtype=float32)"
      ]
     },
     "execution_count": 33,
     "metadata": {},
     "output_type": "execute_result"
    }
   ],
   "source": [
    "val = sample.next(); val[0]"
   ]
  },
  {
   "cell_type": "code",
   "execution_count": 34,
   "metadata": {},
   "outputs": [
    {
     "data": {
      "text/plain": [
       "<matplotlib.image.AxesImage at 0x268e04f9fa0>"
      ]
     },
     "execution_count": 34,
     "metadata": {},
     "output_type": "execute_result"
    },
    {
     "data": {
      "image/png": "[encoded data removed]",
      "text/plain": [
       "<Figure size 640x480 with 1 Axes>"
      ]
     },
     "metadata": {},
     "output_type": "display_data"
    }
   ],
   "source": [
    "# 0:videos, 0: 1st video out of the batch,  0: return the first frame in the video \n",
    "plt.imshow(val[0][0][35])"
   ]
  },
  {
   "cell_type": "code",
   "execution_count": 35,
   "metadata": {},
   "outputs": [
    {
     "data": {
      "text/plain": [
       "<tf.Tensor: shape=(), dtype=string, numpy=b'bin blue in l four please'>"
      ]
     },
     "execution_count": 35,
     "metadata": {},
     "output_type": "execute_result"
    }
   ],
   "source": [
    "tf.strings.reduce_join([num_to_char(word) for word in val[1][0]])"
   ]
  },
  {
   "cell_type": "markdown",
   "metadata": {},
   "source": [
    "# Design the Deep Neural Network"
   ]
  },
  {
   "cell_type": "code",
   "execution_count": 36,
   "metadata": {},
   "outputs": [],
   "source": [
    "from tensorflow.keras.models import Sequential \n",
    "from tensorflow.keras.layers import Conv3D, LSTM, Dense, Dropout, Bidirectional, MaxPool3D, Activation, Reshape, SpatialDropout3D, BatchNormalization, TimeDistributed, Flatten\n",
    "from tensorflow.keras.optimizers import Adam\n",
    "from tensorflow.keras.callbacks import ModelCheckpoint, LearningRateScheduler"
   ]
  },
  {
   "cell_type": "code",
   "execution_count": 37,
   "metadata": {},
   "outputs": [
    {
     "data": {
      "text/plain": [
       "(75, 46, 140, 1)"
      ]
     },
     "execution_count": 37,
     "metadata": {},
     "output_type": "execute_result"
    }
   ],
   "source": [
    "data.as_numpy_iterator().next()[0][0].shape"
   ]
  },
  {
   "cell_type": "code",
   "execution_count": 38,
   "metadata": {},
   "outputs": [
    {
     "name": "stderr",
     "output_type": "stream",
     "text": [
      "c:\\Users\\Admin\\AppData\\Local\\Programs\\Python\\Python312\\Lib\\site-packages\\keras\\src\\layers\\convolutional\\base_conv.py:107: UserWarning: Do not pass an `input_shape`/`input_dim` argument to a layer. When using Sequential models, prefer using an `Input(shape)` object as the first layer in the model instead.\n",
      "  super().__init__(activity_regularizer=activity_regularizer, **kwargs)\n"
     ]
    }
   ],
   "source": [
    "model = Sequential()\n",
    "model.add(Conv3D(128, 3, input_shape=(75,46,140,1), padding='same'))\n",
    "model.add(Activation('relu'))\n",
    "model.add(MaxPool3D((1,2,2)))\n",
    "\n",
    "model.add(Conv3D(256, 3, padding='same'))\n",
    "model.add(Activation('relu'))\n",
    "model.add(MaxPool3D((1,2,2)))\n",
    "\n",
    "model.add(Conv3D(75, 3, padding='same'))\n",
    "model.add(Activation('relu'))\n",
    "model.add(MaxPool3D((1,2,2)))\n",
    "\n",
    "model.add(TimeDistributed(Flatten()))\n",
    "\n",
    "model.add(Bidirectional(LSTM(128, kernel_initializer='Orthogonal', return_sequences=True)))\n",
    "model.add(Dropout(.5))\n",
    "\n",
    "model.add(Bidirectional(LSTM(128, kernel_initializer='Orthogonal', return_sequences=True)))\n",
    "model.add(Dropout(.5))\n",
    "\n",
    "model.add(Dense(char_to_num.vocabulary_size()+1, kernel_initializer='he_normal', activation='softmax'))"
   ]
  },
  {
   "cell_type": "code",
   "execution_count": 39,
   "metadata": {},
   "outputs": [
    {
     "data": {
      "text/html": [
       "<pre style=\"white-space:pre;overflow-x:auto;line-height:normal;font-family:Menlo,'DejaVu Sans Mono',consolas,'Courier New',monospace\"><span style=\"font-weight: bold\">Model: \"sequential\"</span>\n",
       "</pre>\n"
      ],
      "text/plain": [
       "\u001b[1mModel: \"sequential\"\u001b[0m\n"
      ]
     },
     "metadata": {},
     "output_type": "display_data"
    },
    {
     "data": {
      "text/html": [
       "<pre style=\"white-space:pre;overflow-x:auto;line-height:normal;font-family:Menlo,'DejaVu Sans Mono',consolas,'Courier New',monospace\">┏━━━━━━━━━━━━━━━━━━━━━━━━━━━━━━━━━┳━━━━━━━━━━━━━━━━━━━━━━━━┳━━━━━━━━━━━━━━━┓\n",
       "┃<span style=\"font-weight: bold\"> Layer (type)                    </span>┃<span style=\"font-weight: bold\"> Output Shape           </span>┃<span style=\"font-weight: bold\">       Param # </span>┃\n",
       "┡━━━━━━━━━━━━━━━━━━━━━━━━━━━━━━━━━╇━━━━━━━━━━━━━━━━━━━━━━━━╇━━━━━━━━━━━━━━━┩\n",
       "│ conv3d (<span style=\"color: #0087ff; text-decoration-color: #0087ff\">Conv3D</span>)                 │ (<span style=\"color: #00d7ff; text-decoration-color: #00d7ff\">None</span>, <span style=\"color: #00af00; text-decoration-color: #00af00\">75</span>, <span style=\"color: #00af00; text-decoration-color: #00af00\">46</span>, <span style=\"color: #00af00; text-decoration-color: #00af00\">140</span>,    │         <span style=\"color: #00af00; text-decoration-color: #00af00\">3,584</span> │\n",
       "│                                 │ <span style=\"color: #00af00; text-decoration-color: #00af00\">128</span>)                   │               │\n",
       "├─────────────────────────────────┼────────────────────────┼───────────────┤\n",
       "│ activation (<span style=\"color: #0087ff; text-decoration-color: #0087ff\">Activation</span>)         │ (<span style=\"color: #00d7ff; text-decoration-color: #00d7ff\">None</span>, <span style=\"color: #00af00; text-decoration-color: #00af00\">75</span>, <span style=\"color: #00af00; text-decoration-color: #00af00\">46</span>, <span style=\"color: #00af00; text-decoration-color: #00af00\">140</span>,    │             <span style=\"color: #00af00; text-decoration-color: #00af00\">0</span> │\n",
       "│                                 │ <span style=\"color: #00af00; text-decoration-color: #00af00\">128</span>)                   │               │\n",
       "├─────────────────────────────────┼────────────────────────┼───────────────┤\n",
       "│ max_pooling3d (<span style=\"color: #0087ff; text-decoration-color: #0087ff\">MaxPooling3D</span>)    │ (<span style=\"color: #00d7ff; text-decoration-color: #00d7ff\">None</span>, <span style=\"color: #00af00; text-decoration-color: #00af00\">75</span>, <span style=\"color: #00af00; text-decoration-color: #00af00\">23</span>, <span style=\"color: #00af00; text-decoration-color: #00af00\">70</span>,     │             <span style=\"color: #00af00; text-decoration-color: #00af00\">0</span> │\n",
       "│                                 │ <span style=\"color: #00af00; text-decoration-color: #00af00\">128</span>)                   │               │\n",
       "├─────────────────────────────────┼────────────────────────┼───────────────┤\n",
       "│ conv3d_1 (<span style=\"color: #0087ff; text-decoration-color: #0087ff\">Conv3D</span>)               │ (<span style=\"color: #00d7ff; text-decoration-color: #00d7ff\">None</span>, <span style=\"color: #00af00; text-decoration-color: #00af00\">75</span>, <span style=\"color: #00af00; text-decoration-color: #00af00\">23</span>, <span style=\"color: #00af00; text-decoration-color: #00af00\">70</span>,     │       <span style=\"color: #00af00; text-decoration-color: #00af00\">884,992</span> │\n",
       "│                                 │ <span style=\"color: #00af00; text-decoration-color: #00af00\">256</span>)                   │               │\n",
       "├─────────────────────────────────┼────────────────────────┼───────────────┤\n",
       "│ activation_1 (<span style=\"color: #0087ff; text-decoration-color: #0087ff\">Activation</span>)       │ (<span style=\"color: #00d7ff; text-decoration-color: #00d7ff\">None</span>, <span style=\"color: #00af00; text-decoration-color: #00af00\">75</span>, <span style=\"color: #00af00; text-decoration-color: #00af00\">23</span>, <span style=\"color: #00af00; text-decoration-color: #00af00\">70</span>,     │             <span style=\"color: #00af00; text-decoration-color: #00af00\">0</span> │\n",
       "│                                 │ <span style=\"color: #00af00; text-decoration-color: #00af00\">256</span>)                   │               │\n",
       "├─────────────────────────────────┼────────────────────────┼───────────────┤\n",
       "│ max_pooling3d_1 (<span style=\"color: #0087ff; text-decoration-color: #0087ff\">MaxPooling3D</span>)  │ (<span style=\"color: #00d7ff; text-decoration-color: #00d7ff\">None</span>, <span style=\"color: #00af00; text-decoration-color: #00af00\">75</span>, <span style=\"color: #00af00; text-decoration-color: #00af00\">11</span>, <span style=\"color: #00af00; text-decoration-color: #00af00\">35</span>,     │             <span style=\"color: #00af00; text-decoration-color: #00af00\">0</span> │\n",
       "│                                 │ <span style=\"color: #00af00; text-decoration-color: #00af00\">256</span>)                   │               │\n",
       "├─────────────────────────────────┼────────────────────────┼───────────────┤\n",
       "│ conv3d_2 (<span style=\"color: #0087ff; text-decoration-color: #0087ff\">Conv3D</span>)               │ (<span style=\"color: #00d7ff; text-decoration-color: #00d7ff\">None</span>, <span style=\"color: #00af00; text-decoration-color: #00af00\">75</span>, <span style=\"color: #00af00; text-decoration-color: #00af00\">11</span>, <span style=\"color: #00af00; text-decoration-color: #00af00\">35</span>, <span style=\"color: #00af00; text-decoration-color: #00af00\">75</span>) │       <span style=\"color: #00af00; text-decoration-color: #00af00\">518,475</span> │\n",
       "├─────────────────────────────────┼────────────────────────┼───────────────┤\n",
       "│ activation_2 (<span style=\"color: #0087ff; text-decoration-color: #0087ff\">Activation</span>)       │ (<span style=\"color: #00d7ff; text-decoration-color: #00d7ff\">None</span>, <span style=\"color: #00af00; text-decoration-color: #00af00\">75</span>, <span style=\"color: #00af00; text-decoration-color: #00af00\">11</span>, <span style=\"color: #00af00; text-decoration-color: #00af00\">35</span>, <span style=\"color: #00af00; text-decoration-color: #00af00\">75</span>) │             <span style=\"color: #00af00; text-decoration-color: #00af00\">0</span> │\n",
       "├─────────────────────────────────┼────────────────────────┼───────────────┤\n",
       "│ max_pooling3d_2 (<span style=\"color: #0087ff; text-decoration-color: #0087ff\">MaxPooling3D</span>)  │ (<span style=\"color: #00d7ff; text-decoration-color: #00d7ff\">None</span>, <span style=\"color: #00af00; text-decoration-color: #00af00\">75</span>, <span style=\"color: #00af00; text-decoration-color: #00af00\">5</span>, <span style=\"color: #00af00; text-decoration-color: #00af00\">17</span>, <span style=\"color: #00af00; text-decoration-color: #00af00\">75</span>)  │             <span style=\"color: #00af00; text-decoration-color: #00af00\">0</span> │\n",
       "├─────────────────────────────────┼────────────────────────┼───────────────┤\n",
       "│ time_distributed                │ (<span style=\"color: #00d7ff; text-decoration-color: #00d7ff\">None</span>, <span style=\"color: #00af00; text-decoration-color: #00af00\">75</span>, <span style=\"color: #00af00; text-decoration-color: #00af00\">6375</span>)       │             <span style=\"color: #00af00; text-decoration-color: #00af00\">0</span> │\n",
       "│ (<span style=\"color: #0087ff; text-decoration-color: #0087ff\">TimeDistributed</span>)               │                        │               │\n",
       "├─────────────────────────────────┼────────────────────────┼───────────────┤\n",
       "│ bidirectional (<span style=\"color: #0087ff; text-decoration-color: #0087ff\">Bidirectional</span>)   │ (<span style=\"color: #00d7ff; text-decoration-color: #00d7ff\">None</span>, <span style=\"color: #00af00; text-decoration-color: #00af00\">75</span>, <span style=\"color: #00af00; text-decoration-color: #00af00\">256</span>)        │     <span style=\"color: #00af00; text-decoration-color: #00af00\">6,660,096</span> │\n",
       "├─────────────────────────────────┼────────────────────────┼───────────────┤\n",
       "│ dropout (<span style=\"color: #0087ff; text-decoration-color: #0087ff\">Dropout</span>)               │ (<span style=\"color: #00d7ff; text-decoration-color: #00d7ff\">None</span>, <span style=\"color: #00af00; text-decoration-color: #00af00\">75</span>, <span style=\"color: #00af00; text-decoration-color: #00af00\">256</span>)        │             <span style=\"color: #00af00; text-decoration-color: #00af00\">0</span> │\n",
       "├─────────────────────────────────┼────────────────────────┼───────────────┤\n",
       "│ bidirectional_1 (<span style=\"color: #0087ff; text-decoration-color: #0087ff\">Bidirectional</span>) │ (<span style=\"color: #00d7ff; text-decoration-color: #00d7ff\">None</span>, <span style=\"color: #00af00; text-decoration-color: #00af00\">75</span>, <span style=\"color: #00af00; text-decoration-color: #00af00\">256</span>)        │       <span style=\"color: #00af00; text-decoration-color: #00af00\">394,240</span> │\n",
       "├─────────────────────────────────┼────────────────────────┼───────────────┤\n",
       "│ dropout_1 (<span style=\"color: #0087ff; text-decoration-color: #0087ff\">Dropout</span>)             │ (<span style=\"color: #00d7ff; text-decoration-color: #00d7ff\">None</span>, <span style=\"color: #00af00; text-decoration-color: #00af00\">75</span>, <span style=\"color: #00af00; text-decoration-color: #00af00\">256</span>)        │             <span style=\"color: #00af00; text-decoration-color: #00af00\">0</span> │\n",
       "├─────────────────────────────────┼────────────────────────┼───────────────┤\n",
       "│ dense (<span style=\"color: #0087ff; text-decoration-color: #0087ff\">Dense</span>)                   │ (<span style=\"color: #00d7ff; text-decoration-color: #00d7ff\">None</span>, <span style=\"color: #00af00; text-decoration-color: #00af00\">75</span>, <span style=\"color: #00af00; text-decoration-color: #00af00\">41</span>)         │        <span style=\"color: #00af00; text-decoration-color: #00af00\">10,537</span> │\n",
       "└─────────────────────────────────┴────────────────────────┴───────────────┘\n",
       "</pre>\n"
      ],
      "text/plain": [
       "┏━━━━━━━━━━━━━━━━━━━━━━━━━━━━━━━━━┳━━━━━━━━━━━━━━━━━━━━━━━━┳━━━━━━━━━━━━━━━┓\n",
       "┃\u001b[1m \u001b[0m\u001b[1mLayer (type)                   \u001b[0m\u001b[1m \u001b[0m┃\u001b[1m \u001b[0m\u001b[1mOutput Shape          \u001b[0m\u001b[1m \u001b[0m┃\u001b[1m \u001b[0m\u001b[1m      Param #\u001b[0m\u001b[1m \u001b[0m┃\n",
       "┡━━━━━━━━━━━━━━━━━━━━━━━━━━━━━━━━━╇━━━━━━━━━━━━━━━━━━━━━━━━╇━━━━━━━━━━━━━━━┩\n",
       "│ conv3d (\u001b[38;5;33mConv3D\u001b[0m)                 │ (\u001b[38;5;45mNone\u001b[0m, \u001b[38;5;34m75\u001b[0m, \u001b[38;5;34m46\u001b[0m, \u001b[38;5;34m140\u001b[0m,    │         \u001b[38;5;34m3,584\u001b[0m │\n",
       "│                                 │ \u001b[38;5;34m128\u001b[0m)                   │               │\n",
       "├─────────────────────────────────┼────────────────────────┼───────────────┤\n",
       "│ activation (\u001b[38;5;33mActivation\u001b[0m)         │ (\u001b[38;5;45mNone\u001b[0m, \u001b[38;5;34m75\u001b[0m, \u001b[38;5;34m46\u001b[0m, \u001b[38;5;34m140\u001b[0m,    │             \u001b[38;5;34m0\u001b[0m │\n",
       "│                                 │ \u001b[38;5;34m128\u001b[0m)                   │               │\n",
       "├─────────────────────────────────┼────────────────────────┼───────────────┤\n",
       "│ max_pooling3d (\u001b[38;5;33mMaxPooling3D\u001b[0m)    │ (\u001b[38;5;45mNone\u001b[0m, \u001b[38;5;34m75\u001b[0m, \u001b[38;5;34m23\u001b[0m, \u001b[38;5;34m70\u001b[0m,     │             \u001b[38;5;34m0\u001b[0m │\n",
       "│                                 │ \u001b[38;5;34m128\u001b[0m)                   │               │\n",
       "├─────────────────────────────────┼────────────────────────┼───────────────┤\n",
       "│ conv3d_1 (\u001b[38;5;33mConv3D\u001b[0m)               │ (\u001b[38;5;45mNone\u001b[0m, \u001b[38;5;34m75\u001b[0m, \u001b[38;5;34m23\u001b[0m, \u001b[38;5;34m70\u001b[0m,     │       \u001b[38;5;34m884,992\u001b[0m │\n",
       "│                                 │ \u001b[38;5;34m256\u001b[0m)                   │               │\n",
       "├─────────────────────────────────┼────────────────────────┼───────────────┤\n",
       "│ activation_1 (\u001b[38;5;33mActivation\u001b[0m)       │ (\u001b[38;5;45mNone\u001b[0m, \u001b[38;5;34m75\u001b[0m, \u001b[38;5;34m23\u001b[0m, \u001b[38;5;34m70\u001b[0m,     │             \u001b[38;5;34m0\u001b[0m │\n",
       "│                                 │ \u001b[38;5;34m256\u001b[0m)                   │               │\n",
       "├─────────────────────────────────┼────────────────────────┼───────────────┤\n",
       "│ max_pooling3d_1 (\u001b[38;5;33mMaxPooling3D\u001b[0m)  │ (\u001b[38;5;45mNone\u001b[0m, \u001b[38;5;34m75\u001b[0m, \u001b[38;5;34m11\u001b[0m, \u001b[38;5;34m35\u001b[0m,     │             \u001b[38;5;34m0\u001b[0m │\n",
       "│                                 │ \u001b[38;5;34m256\u001b[0m)                   │               │\n",
       "├─────────────────────────────────┼────────────────────────┼───────────────┤\n",
       "│ conv3d_2 (\u001b[38;5;33mConv3D\u001b[0m)               │ (\u001b[38;5;45mNone\u001b[0m, \u001b[38;5;34m75\u001b[0m, \u001b[38;5;34m11\u001b[0m, \u001b[38;5;34m35\u001b[0m, \u001b[38;5;34m75\u001b[0m) │       \u001b[38;5;34m518,475\u001b[0m │\n",
       "├─────────────────────────────────┼────────────────────────┼───────────────┤\n",
       "│ activation_2 (\u001b[38;5;33mActivation\u001b[0m)       │ (\u001b[38;5;45mNone\u001b[0m, \u001b[38;5;34m75\u001b[0m, \u001b[38;5;34m11\u001b[0m, \u001b[38;5;34m35\u001b[0m, \u001b[38;5;34m75\u001b[0m) │             \u001b[38;5;34m0\u001b[0m │\n",
       "├─────────────────────────────────┼────────────────────────┼───────────────┤\n",
       "│ max_pooling3d_2 (\u001b[38;5;33mMaxPooling3D\u001b[0m)  │ (\u001b[38;5;45mNone\u001b[0m, \u001b[38;5;34m75\u001b[0m, \u001b[38;5;34m5\u001b[0m, \u001b[38;5;34m17\u001b[0m, \u001b[38;5;34m75\u001b[0m)  │             \u001b[38;5;34m0\u001b[0m │\n",
       "├─────────────────────────────────┼────────────────────────┼───────────────┤\n",
       "│ time_distributed                │ (\u001b[38;5;45mNone\u001b[0m, \u001b[38;5;34m75\u001b[0m, \u001b[38;5;34m6375\u001b[0m)       │             \u001b[38;5;34m0\u001b[0m │\n",
       "│ (\u001b[38;5;33mTimeDistributed\u001b[0m)               │                        │               │\n",
       "├─────────────────────────────────┼────────────────────────┼───────────────┤\n",
       "│ bidirectional (\u001b[38;5;33mBidirectional\u001b[0m)   │ (\u001b[38;5;45mNone\u001b[0m, \u001b[38;5;34m75\u001b[0m, \u001b[38;5;34m256\u001b[0m)        │     \u001b[38;5;34m6,660,096\u001b[0m │\n",
       "├─────────────────────────────────┼────────────────────────┼───────────────┤\n",
       "│ dropout (\u001b[38;5;33mDropout\u001b[0m)               │ (\u001b[38;5;45mNone\u001b[0m, \u001b[38;5;34m75\u001b[0m, \u001b[38;5;34m256\u001b[0m)        │             \u001b[38;5;34m0\u001b[0m │\n",
       "├─────────────────────────────────┼────────────────────────┼───────────────┤\n",
       "│ bidirectional_1 (\u001b[38;5;33mBidirectional\u001b[0m) │ (\u001b[38;5;45mNone\u001b[0m, \u001b[38;5;34m75\u001b[0m, \u001b[38;5;34m256\u001b[0m)        │       \u001b[38;5;34m394,240\u001b[0m │\n",
       "├─────────────────────────────────┼────────────────────────┼───────────────┤\n",
       "│ dropout_1 (\u001b[38;5;33mDropout\u001b[0m)             │ (\u001b[38;5;45mNone\u001b[0m, \u001b[38;5;34m75\u001b[0m, \u001b[38;5;34m256\u001b[0m)        │             \u001b[38;5;34m0\u001b[0m │\n",
       "├─────────────────────────────────┼────────────────────────┼───────────────┤\n",
       "│ dense (\u001b[38;5;33mDense\u001b[0m)                   │ (\u001b[38;5;45mNone\u001b[0m, \u001b[38;5;34m75\u001b[0m, \u001b[38;5;34m41\u001b[0m)         │        \u001b[38;5;34m10,537\u001b[0m │\n",
       "└─────────────────────────────────┴────────────────────────┴───────────────┘\n"
      ]
     },
     "metadata": {},
     "output_type": "display_data"
    },
    {
     "data": {
      "text/html": [
       "<pre style=\"white-space:pre;overflow-x:auto;line-height:normal;font-family:Menlo,'DejaVu Sans Mono',consolas,'Courier New',monospace\"><span style=\"font-weight: bold\"> Total params: </span><span style=\"color: #00af00; text-decoration-color: #00af00\">8,471,924</span> (32.32 MB)\n",
       "</pre>\n"
      ],
      "text/plain": [
       "\u001b[1m Total params: \u001b[0m\u001b[38;5;34m8,471,924\u001b[0m (32.32 MB)\n"
      ]
     },
     "metadata": {},
     "output_type": "display_data"
    },
    {
     "data": {
      "text/html": [
       "<pre style=\"white-space:pre;overflow-x:auto;line-height:normal;font-family:Menlo,'DejaVu Sans Mono',consolas,'Courier New',monospace\"><span style=\"font-weight: bold\"> Trainable params: </span><span style=\"color: #00af00; text-decoration-color: #00af00\">8,471,924</span> (32.32 MB)\n",
       "</pre>\n"
      ],
      "text/plain": [
       "\u001b[1m Trainable params: \u001b[0m\u001b[38;5;34m8,471,924\u001b[0m (32.32 MB)\n"
      ]
     },
     "metadata": {},
     "output_type": "display_data"
    },
    {
     "data": {
      "text/html": [
       "<pre style=\"white-space:pre;overflow-x:auto;line-height:normal;font-family:Menlo,'DejaVu Sans Mono',consolas,'Courier New',monospace\"><span style=\"font-weight: bold\"> Non-trainable params: </span><span style=\"color: #00af00; text-decoration-color: #00af00\">0</span> (0.00 B)\n",
       "</pre>\n"
      ],
      "text/plain": [
       "\u001b[1m Non-trainable params: \u001b[0m\u001b[38;5;34m0\u001b[0m (0.00 B)\n"
      ]
     },
     "metadata": {},
     "output_type": "display_data"
    }
   ],
   "source": [
    "model.summary()"
   ]
  },
  {
   "cell_type": "code",
   "execution_count": 40,
   "metadata": {},
   "outputs": [
    {
     "name": "stdout",
     "output_type": "stream",
     "text": [
      "\u001b[1m1/1\u001b[0m \u001b[32m━━━━━━━━━━━━━━━━━━━━\u001b[0m\u001b[37m\u001b[0m \u001b[1m5s\u001b[0m 5s/step\n"
     ]
    }
   ],
   "source": [
    "yhat = model.predict(val[0])"
   ]
  },
  {
   "cell_type": "code",
   "execution_count": 41,
   "metadata": {},
   "outputs": [
    {
     "data": {
      "text/plain": [
       "<tf.Tensor: shape=(), dtype=string, numpy=b'yyaaaaaaaaaaaaaaaaaaaaaaaaaaaaaaaaaaaaaaaaaaagggggggggggggggggggggaagbbbbbb'>"
      ]
     },
     "execution_count": 41,
     "metadata": {},
     "output_type": "execute_result"
    }
   ],
   "source": [
    "tf.strings.reduce_join([num_to_char(x) for x in tf.argmax(yhat[0],axis=1)])"
   ]
  },
  {
   "cell_type": "code",
   "execution_count": 42,
   "metadata": {},
   "outputs": [
    {
     "data": {
      "text/plain": [
       "<tf.Tensor: shape=(), dtype=string, numpy=b'yyaaaaaaaaaaaaaaaaaaaaaaaaaaaaaaaaaaaaaaaaaaagggggggggggggggggggggaagbbbbbb'>"
      ]
     },
     "execution_count": 42,
     "metadata": {},
     "output_type": "execute_result"
    }
   ],
   "source": [
    "tf.strings.reduce_join([num_to_char(tf.argmax(x)) for x in yhat[0]])"
   ]
  },
  {
   "cell_type": "code",
   "execution_count": 43,
   "metadata": {},
   "outputs": [
    {
     "data": {
      "text/plain": [
       "(None, 75, 46, 140, 1)"
      ]
     },
     "execution_count": 43,
     "metadata": {},
     "output_type": "execute_result"
    }
   ],
   "source": [
    "model.input_shape"
   ]
  },
  {
   "cell_type": "code",
   "execution_count": 44,
   "metadata": {},
   "outputs": [
    {
     "data": {
      "text/plain": [
       "(None, 75, 41)"
      ]
     },
     "execution_count": 44,
     "metadata": {},
     "output_type": "execute_result"
    }
   ],
   "source": [
    "model.output_shape"
   ]
  },
  {
   "cell_type": "markdown",
   "metadata": {},
   "source": [
    "# Setup Training Options and Train"
   ]
  },
  {
   "cell_type": "code",
   "execution_count": 45,
   "metadata": {},
   "outputs": [],
   "source": [
    "def scheduler(epoch, lr):\n",
    "    if epoch < 30:\n",
    "        return lr\n",
    "    else:\n",
    "        return lr * tf.math.exp(-0.1)"
   ]
  },
  {
   "cell_type": "code",
   "execution_count": 46,
   "metadata": {},
   "outputs": [],
   "source": [
    "def CTCLoss(y_true, y_pred):\n",
    "    batch_len = tf.cast(tf.shape(y_true)[0], dtype=\"int64\")\n",
    "    input_length = tf.cast(tf.shape(y_pred)[1], dtype=\"int64\")\n",
    "    label_length = tf.cast(tf.shape(y_true)[1], dtype=\"int64\")\n",
    "\n",
    "    input_length = input_length * tf.ones(shape=(batch_len, 1), dtype=\"int64\")\n",
    "    label_length = label_length * tf.ones(shape=(batch_len, 1), dtype=\"int64\")\n",
    "\n",
    "    loss = tf.keras.backend.ctc_batch_cost(y_true, y_pred, input_length, label_length)\n",
    "    return loss"
   ]
  },
  {
   "cell_type": "code",
   "execution_count": 47,
   "metadata": {},
   "outputs": [],
   "source": [
    "class ProduceExample(tf.keras.callbacks.Callback): \n",
    "    def __init__(self, dataset) -> None: \n",
    "        self.dataset = dataset.as_numpy_iterator()\n",
    "    \n",
    "    def on_epoch_end(self, epoch, logs=None) -> None:\n",
    "        data = self.dataset.next()\n",
    "        yhat = self.model.predict(data[0])\n",
    "        decoded = tf.keras.backend.ctc_decode(yhat, [75,75], greedy=False)[0][0].numpy()\n",
    "        for x in range(len(yhat)):           \n",
    "            print('Original:', tf.strings.reduce_join(num_to_char(data[1][x])).numpy().decode('utf-8'))\n",
    "            print('Prediction:', tf.strings.reduce_join(num_to_char(decoded[x])).numpy().decode('utf-8'))\n",
    "            print('~'*100)"
   ]
  },
  {
   "cell_type": "code",
   "execution_count": 48,
   "metadata": {},
   "outputs": [],
   "source": [
    "model.compile(optimizer=Adam(learning_rate=0.0001), loss=CTCLoss)"
   ]
  },
  {
   "cell_type": "code",
   "execution_count": 50,
   "metadata": {},
   "outputs": [],
   "source": [
    "checkpoint_callback = ModelCheckpoint(os.path.join('models', 'checkpoint.weights.h5'), monitor='loss', save_weights_only=True)\n"
   ]
  },
  {
   "cell_type": "code",
   "execution_count": 51,
   "metadata": {},
   "outputs": [],
   "source": [
    "schedule_callback = LearningRateScheduler(scheduler)"
   ]
  },
  {
   "cell_type": "code",
   "execution_count": 52,
   "metadata": {},
   "outputs": [],
   "source": [
    "example_callback = ProduceExample(test)"
   ]
  },
  {
   "cell_type": "code",
   "execution_count": 55,
   "metadata": {},
   "outputs": [],
   "source": [
    "#from tensorflow.keras.models import Model\n",
    "#model.fit(train, validation_data=test, epochs=100, callbacks=[checkpoint_callback, schedule_callback, example_callback])"
   ]
  },
  {
   "cell_type": "code",
   "execution_count": 56,
   "metadata": {},
   "outputs": [
    {
     "name": "stderr",
     "output_type": "stream",
     "text": [
      "Downloading...\n",
      "From (original): https://drive.google.com/uc?id=1vWscXs4Vt0a_1IH1-ct2TCgXAZT-N3_Y\n",
      "From (redirected): https://drive.google.com/uc?id=1vWscXs4Vt0a_1IH1-ct2TCgXAZT-N3_Y&confirm=t&uuid=e8a50050-edf8-441c-b3e6-4678fd82de6b\n",
      "To: c:\\Users\\Admin\\OneDrive\\Desktop\\Lip_Read\\checkpoints.zip\n",
      "100%|██████████| 94.5M/94.5M [02:58<00:00, 530kB/s] \n"
     ]
    },
    {
     "data": {
      "text/plain": [
       "['models\\\\checkpoint.index',\n",
       " 'models\\\\__MACOSX/._checkpoint.index',\n",
       " 'models\\\\checkpoint.data-00000-of-00001',\n",
       " 'models\\\\__MACOSX/._checkpoint.data-00000-of-00001',\n",
       " 'models\\\\checkpoint',\n",
       " 'models\\\\__MACOSX/._checkpoint']"
      ]
     },
     "execution_count": 56,
     "metadata": {},
     "output_type": "execute_result"
    }
   ],
   "source": [
    "#url = 'https://drive.google.com/uc?id=1vWscXs4Vt0a_1IH1-ct2TCgXAZT-N3_Y'\n",
    "#output = 'checkpoints.zip'\n",
    "#gdown.download(url, output, quiet=False)\n",
    "#gdown.extractall('checkpoints.zip', 'models')#"
   ]
  },
  {
   "cell_type": "code",
   "execution_count": 58,
   "metadata": {},
   "outputs": [
    {
     "name": "stderr",
     "output_type": "stream",
     "text": [
      "WARNING:absl:You are saving your model as an HDF5 file via `model.save()` or `keras.saving.save_model(model)`. This file format is considered legacy. We recommend using instead the native Keras format, e.g. `model.save('my_model.keras')` or `keras.saving.save_model(model, 'my_model.keras')`. \n"
     ]
    }
   ],
   "source": [
    "# Saving the model in .h5 format\n",
    "model.save('models/model_checkpoint.h5')\n"
   ]
  },
  {
   "cell_type": "code",
   "execution_count": 59,
   "metadata": {},
   "outputs": [],
   "source": [
    "model.load_weights('C:\\\\Users\\\\Admin\\\\OneDrive\\\\Desktop\\\\Lip_Read\\\\models\\\\model_checkpoint.h5')"
   ]
  },
  {
   "cell_type": "code",
   "execution_count": 60,
   "metadata": {},
   "outputs": [],
   "source": [
    "test_data = test.as_numpy_iterator()"
   ]
  },
  {
   "cell_type": "code",
   "execution_count": 61,
   "metadata": {},
   "outputs": [],
   "source": [
    "sample = test_data.next()"
   ]
  },
  {
   "cell_type": "code",
   "execution_count": 62,
   "metadata": {},
   "outputs": [
    {
     "name": "stdout",
     "output_type": "stream",
     "text": [
      "\u001b[1m1/1\u001b[0m \u001b[32m━━━━━━━━━━━━━━━━━━━━\u001b[0m\u001b[37m\u001b[0m \u001b[1m12s\u001b[0m 12s/step\n"
     ]
    }
   ],
   "source": [
    "yhat = model.predict(sample[0])"
   ]
  },
  {
   "cell_type": "code",
   "execution_count": 63,
   "metadata": {},
   "outputs": [
    {
     "name": "stdout",
     "output_type": "stream",
     "text": [
      "~~~~~~~~~~~~~~~~~~~~~~~~~~~~~~~~~~~~~~~~~~~~~~~~~~~~~~~~~~~~~~~~~~~~~~~~~~~~~~~~~~~~~~~~~~~~~~~~~~~~ REAL TEXT\n"
     ]
    },
    {
     "data": {
      "text/plain": [
       "[<tf.Tensor: shape=(), dtype=string, numpy=b'set white by o eight now'>,\n",
       " <tf.Tensor: shape=(), dtype=string, numpy=b'bin white at a zero now'>]"
      ]
     },
     "execution_count": 63,
     "metadata": {},
     "output_type": "execute_result"
    }
   ],
   "source": [
    "print('~'*100, 'REAL TEXT')\n",
    "[tf.strings.reduce_join([num_to_char(word) for word in sentence]) for sentence in sample[1]]"
   ]
  },
  {
   "cell_type": "code",
   "execution_count": 64,
   "metadata": {},
   "outputs": [],
   "source": [
    "decoded = tf.keras.backend.ctc_decode(yhat, input_length=[75,75], greedy=True)[0][0].numpy()"
   ]
  },
  {
   "cell_type": "code",
   "execution_count": 65,
   "metadata": {},
   "outputs": [
    {
     "name": "stdout",
     "output_type": "stream",
     "text": [
      "~~~~~~~~~~~~~~~~~~~~~~~~~~~~~~~~~~~~~~~~~~~~~~~~~~~~~~~~~~~~~~~~~~~~~~~~~~~~~~~~~~~~~~~~~~~~~~~~~~~~ PREDICTIONS\n"
     ]
    },
    {
     "data": {
      "text/plain": [
       "[<tf.Tensor: shape=(), dtype=string, numpy=b'la agv'>,\n",
       " <tf.Tensor: shape=(), dtype=string, numpy=b'la b'>]"
      ]
     },
     "execution_count": 65,
     "metadata": {},
     "output_type": "execute_result"
    }
   ],
   "source": [
    "print('~'*100, 'PREDICTIONS')\n",
    "[tf.strings.reduce_join([num_to_char(word) for word in sentence]) for sentence in decoded]"
   ]
  },
  {
   "cell_type": "markdown",
   "metadata": {},
   "source": [
    "# Test on a Video"
   ]
  },
  {
   "cell_type": "code",
   "execution_count": 70,
   "metadata": {},
   "outputs": [],
   "source": [
    "sample = load_data(tf.convert_to_tensor('C:\\\\Users\\\\Admin\\\\OneDrive\\\\Desktop\\\\Lip_Read\\\\data\\\\s1\\\\bbal9a.mpg'))"
   ]
  },
  {
   "cell_type": "code",
   "execution_count": 71,
   "metadata": {},
   "outputs": [
    {
     "data": {
      "text/plain": [
       "(<tf.Tensor: shape=(75, 46, 140, 1), dtype=float32, numpy=\n",
       " array([[[[1.4100275 ],\n",
       "          [1.4100275 ],\n",
       "          [1.4471334 ],\n",
       "          ...,\n",
       "          [0.44527185],\n",
       "          [0.37105986],\n",
       "          [0.37105986]],\n",
       " \n",
       "         [[1.4100275 ],\n",
       "          [1.4100275 ],\n",
       "          [1.4471334 ],\n",
       "          ...,\n",
       "          [0.44527185],\n",
       "          [0.37105986],\n",
       "          [0.37105986]],\n",
       " \n",
       "         [[1.4100275 ],\n",
       "          [1.4100275 ],\n",
       "          [1.4100275 ],\n",
       "          ...,\n",
       "          [0.3339539 ],\n",
       "          [0.3339539 ],\n",
       "          [0.3339539 ]],\n",
       " \n",
       "         ...,\n",
       " \n",
       "         [[1.0018617 ],\n",
       "          [1.0018617 ],\n",
       "          [1.0018617 ],\n",
       "          ...,\n",
       "          [9.462027  ],\n",
       "          [9.462027  ],\n",
       "          [9.462027  ]],\n",
       " \n",
       "         [[1.0018617 ],\n",
       "          [1.0018617 ],\n",
       "          [1.0018617 ],\n",
       "          ...,\n",
       "          [9.462027  ],\n",
       "          [9.424921  ],\n",
       "          [9.424921  ]],\n",
       " \n",
       "         [[1.0018617 ],\n",
       "          [1.0018617 ],\n",
       "          [1.0018617 ],\n",
       "          ...,\n",
       "          [9.462027  ],\n",
       "          [9.424921  ],\n",
       "          [9.3878145 ]]],\n",
       " \n",
       " \n",
       "        [[[1.3358155 ],\n",
       "          [1.3358155 ],\n",
       "          [1.4100275 ],\n",
       "          ...,\n",
       "          [0.3339539 ],\n",
       "          [0.3339539 ],\n",
       "          [0.3339539 ]],\n",
       " \n",
       "         [[1.3358155 ],\n",
       "          [1.3358155 ],\n",
       "          [1.4100275 ],\n",
       "          ...,\n",
       "          [0.3339539 ],\n",
       "          [0.3339539 ],\n",
       "          [0.3339539 ]],\n",
       " \n",
       "         [[1.3729215 ],\n",
       "          [1.3729215 ],\n",
       "          [1.4100275 ],\n",
       "          ...,\n",
       "          [0.29684788],\n",
       "          [0.2597419 ],\n",
       "          [0.2597419 ]],\n",
       " \n",
       "         ...,\n",
       " \n",
       "         [[0.96475565],\n",
       "          [0.96475565],\n",
       "          [0.96475565],\n",
       "          ...,\n",
       "          [0.        ],\n",
       "          [0.03710598],\n",
       "          [0.03710598]],\n",
       " \n",
       "         [[0.96475565],\n",
       "          [0.96475565],\n",
       "          [0.96475565],\n",
       "          ...,\n",
       "          [0.        ],\n",
       "          [0.        ],\n",
       "          [9.462027  ]],\n",
       " \n",
       "         [[0.96475565],\n",
       "          [0.96475565],\n",
       "          [0.96475565],\n",
       "          ...,\n",
       "          [0.        ],\n",
       "          [9.462027  ],\n",
       "          [9.462027  ]]],\n",
       " \n",
       " \n",
       "        [[[1.4471334 ],\n",
       "          [1.4471334 ],\n",
       "          [1.4842395 ],\n",
       "          ...,\n",
       "          [0.3339539 ],\n",
       "          [0.3339539 ],\n",
       "          [0.3339539 ]],\n",
       " \n",
       "         [[1.4471334 ],\n",
       "          [1.4471334 ],\n",
       "          [1.4842395 ],\n",
       "          ...,\n",
       "          [0.3339539 ],\n",
       "          [0.3339539 ],\n",
       "          [0.3339539 ]],\n",
       " \n",
       "         [[1.4100275 ],\n",
       "          [1.4100275 ],\n",
       "          [1.4471334 ],\n",
       "          ...,\n",
       "          [0.37105986],\n",
       "          [0.2597419 ],\n",
       "          [0.2597419 ]],\n",
       " \n",
       "         ...,\n",
       " \n",
       "         [[1.0018617 ],\n",
       "          [1.0018617 ],\n",
       "          [1.0018617 ],\n",
       "          ...,\n",
       "          [0.        ],\n",
       "          [0.03710598],\n",
       "          [0.03710598]],\n",
       " \n",
       "         [[0.96475565],\n",
       "          [0.96475565],\n",
       "          [0.96475565],\n",
       "          ...,\n",
       "          [0.        ],\n",
       "          [0.03710598],\n",
       "          [0.        ]],\n",
       " \n",
       "         [[0.96475565],\n",
       "          [0.96475565],\n",
       "          [0.96475565],\n",
       "          ...,\n",
       "          [0.        ],\n",
       "          [0.        ],\n",
       "          [0.        ]]],\n",
       " \n",
       " \n",
       "        ...,\n",
       " \n",
       " \n",
       "        [[[1.5213455 ],\n",
       "          [1.5213455 ],\n",
       "          [1.4471334 ],\n",
       "          ...,\n",
       "          [0.37105986],\n",
       "          [0.29684788],\n",
       "          [0.29684788]],\n",
       " \n",
       "         [[1.5213455 ],\n",
       "          [1.5213455 ],\n",
       "          [1.4471334 ],\n",
       "          ...,\n",
       "          [0.37105986],\n",
       "          [0.29684788],\n",
       "          [0.29684788]],\n",
       " \n",
       "         [[1.4471334 ],\n",
       "          [1.4471334 ],\n",
       "          [1.4100275 ],\n",
       "          ...,\n",
       "          [0.3339539 ],\n",
       "          [0.29684788],\n",
       "          [0.29684788]],\n",
       " \n",
       "         ...,\n",
       " \n",
       "         [[0.96475565],\n",
       "          [0.96475565],\n",
       "          [1.0018617 ],\n",
       "          ...,\n",
       "          [0.07421197],\n",
       "          [0.07421197],\n",
       "          [0.03710598]],\n",
       " \n",
       "         [[0.96475565],\n",
       "          [0.96475565],\n",
       "          [1.0018617 ],\n",
       "          ...,\n",
       "          [0.03710598],\n",
       "          [0.03710598],\n",
       "          [0.03710598]],\n",
       " \n",
       "         [[0.96475565],\n",
       "          [0.96475565],\n",
       "          [0.96475565],\n",
       "          ...,\n",
       "          [0.03710598],\n",
       "          [0.03710598],\n",
       "          [0.        ]]],\n",
       " \n",
       " \n",
       "        [[[1.4471334 ],\n",
       "          [1.4471334 ],\n",
       "          [1.3729215 ],\n",
       "          ...,\n",
       "          [0.37105986],\n",
       "          [0.29684788],\n",
       "          [0.29684788]],\n",
       " \n",
       "         [[1.4471334 ],\n",
       "          [1.4471334 ],\n",
       "          [1.3729215 ],\n",
       "          ...,\n",
       "          [0.3339539 ],\n",
       "          [0.29684788],\n",
       "          [0.29684788]],\n",
       " \n",
       "         [[1.4471334 ],\n",
       "          [1.4471334 ],\n",
       "          [1.4100275 ],\n",
       "          ...,\n",
       "          [0.29684788],\n",
       "          [0.29684788],\n",
       "          [0.29684788]],\n",
       " \n",
       "         ...,\n",
       " \n",
       "         [[1.0018617 ],\n",
       "          [1.0018617 ],\n",
       "          [0.96475565],\n",
       "          ...,\n",
       "          [0.07421197],\n",
       "          [0.03710598],\n",
       "          [0.03710598]],\n",
       " \n",
       "         [[1.0018617 ],\n",
       "          [0.96475565],\n",
       "          [0.96475565],\n",
       "          ...,\n",
       "          [0.03710598],\n",
       "          [0.03710598],\n",
       "          [0.        ]],\n",
       " \n",
       "         [[0.96475565],\n",
       "          [0.96475565],\n",
       "          [0.96475565],\n",
       "          ...,\n",
       "          [0.03710598],\n",
       "          [0.        ],\n",
       "          [0.        ]]],\n",
       " \n",
       " \n",
       "        [[[1.5213455 ],\n",
       "          [1.5213455 ],\n",
       "          [1.4842395 ],\n",
       "          ...,\n",
       "          [0.37105986],\n",
       "          [0.29684788],\n",
       "          [0.29684788]],\n",
       " \n",
       "         [[1.5213455 ],\n",
       "          [1.5213455 ],\n",
       "          [1.4842395 ],\n",
       "          ...,\n",
       "          [0.3339539 ],\n",
       "          [0.29684788],\n",
       "          [0.29684788]],\n",
       " \n",
       "         [[1.4100275 ],\n",
       "          [1.4100275 ],\n",
       "          [1.4471334 ],\n",
       "          ...,\n",
       "          [0.29684788],\n",
       "          [0.29684788],\n",
       "          [0.29684788]],\n",
       " \n",
       "         ...,\n",
       " \n",
       "         [[1.0018617 ],\n",
       "          [1.0018617 ],\n",
       "          [0.96475565],\n",
       "          ...,\n",
       "          [0.07421197],\n",
       "          [0.03710598],\n",
       "          [0.03710598]],\n",
       " \n",
       "         [[1.0018617 ],\n",
       "          [0.96475565],\n",
       "          [0.96475565],\n",
       "          ...,\n",
       "          [0.03710598],\n",
       "          [0.03710598],\n",
       "          [0.        ]],\n",
       " \n",
       "         [[0.96475565],\n",
       "          [0.96475565],\n",
       "          [0.96475565],\n",
       "          ...,\n",
       "          [0.03710598],\n",
       "          [0.        ],\n",
       "          [0.        ]]]], dtype=float32)>,\n",
       " <tf.Tensor: shape=(24,), dtype=int64, numpy=\n",
       " array([ 2,  9, 14, 39,  2, 12, 21,  5, 39,  1, 20, 39, 12, 39, 14,  9, 14,\n",
       "         5, 39,  1,  7,  1,  9, 14], dtype=int64)>)"
      ]
     },
     "execution_count": 71,
     "metadata": {},
     "output_type": "execute_result"
    }
   ],
   "source": [
    "sample"
   ]
  },
  {
   "cell_type": "code",
   "execution_count": 73,
   "metadata": {},
   "outputs": [
    {
     "name": "stdout",
     "output_type": "stream",
     "text": [
      "~~~~~~~~~~~~~~~~~~~~~~~~~~~~~~~~~~~~~~~~~~~~~~~~~~~~~~~~~~~~~~~~~~~~~~~~~~~~~~~~~~~~~~~~~~~~~~~~~~~~ REAL TEXT\n"
     ]
    },
    {
     "data": {
      "text/plain": [
       "[<tf.Tensor: shape=(), dtype=string, numpy=b'bin blue at l nine again'>]"
      ]
     },
     "execution_count": 73,
     "metadata": {},
     "output_type": "execute_result"
    }
   ],
   "source": [
    "print('~'*100, 'REAL TEXT')\n",
    "[tf.strings.reduce_join([num_to_char(word) for word in sentence]) for sentence in [sample[1]]]"
   ]
  },
  {
   "cell_type": "code",
   "execution_count": 74,
   "metadata": {},
   "outputs": [
    {
     "name": "stdout",
     "output_type": "stream",
     "text": [
      "\u001b[1m1/1\u001b[0m \u001b[32m━━━━━━━━━━━━━━━━━━━━\u001b[0m\u001b[37m\u001b[0m \u001b[1m6s\u001b[0m 6s/step\n"
     ]
    }
   ],
   "source": [
    "yhat = model.predict(tf.expand_dims(sample[0], axis=0))"
   ]
  },
  {
   "cell_type": "code",
   "execution_count": 75,
   "metadata": {},
   "outputs": [],
   "source": [
    "decoded = tf.keras.backend.ctc_decode(yhat, input_length=[75], greedy=True)[0][0].numpy()"
   ]
  },
  {
   "cell_type": "code",
   "execution_count": 76,
   "metadata": {},
   "outputs": [
    {
     "name": "stdout",
     "output_type": "stream",
     "text": [
      "~~~~~~~~~~~~~~~~~~~~~~~~~~~~~~~~~~~~~~~~~~~~~~~~~~~~~~~~~~~~~~~~~~~~~~~~~~~~~~~~~~~~~~~~~~~~~~~~~~~~ PREDICTIONS\n"
     ]
    },
    {
     "data": {
      "text/plain": [
       "[<tf.Tensor: shape=(), dtype=string, numpy=b'lasbab'>]"
      ]
     },
     "execution_count": 76,
     "metadata": {},
     "output_type": "execute_result"
    }
   ],
   "source": [
    "print('~'*100, 'PREDICTIONS')\n",
    "[tf.strings.reduce_join([num_to_char(word) for word in sentence]) for sentence in decoded]"
   ]
  },
  {
   "cell_type": "code",
   "execution_count": null,
   "metadata": {},
   "outputs": [],
   "source": []
  }
 ],
 "metadata": {
  "kernelspec": {
   "display_name": "Python 3",
   "language": "python",
   "name": "python3"
  },
  "language_info": {
   "codemirror_mode": {
    "name": "ipython",
    "version": 3
   },
   "file_extension": ".py",
   "mimetype": "text/x-python",
   "name": "python",
   "nbconvert_exporter": "python",
   "pygments_lexer": "ipython3",
   "version": "3.12.5"
  }
 },
 "nbformat": 4,
 "nbformat_minor": 2
}
